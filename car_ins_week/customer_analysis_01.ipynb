{
 "cells": [
  {
   "cell_type": "code",
   "execution_count": 3,
   "id": "68aa4fe2",
   "metadata": {},
   "outputs": [],
   "source": [
    "import numpy as np\n",
    "import pandas as pd\n",
    "pd.options.display.max_rows = 100\n",
    "from IPython.core.interactiveshell import InteractiveShell\n",
    "InteractiveShell.ast_node_interactivity = 'all'"
   ]
  },
  {
   "cell_type": "markdown",
   "source": [
    "Utility functions for cleaning"
   ],
   "metadata": {
    "collapsed": false
   }
  },
  {
   "cell_type": "code",
   "execution_count": 4,
   "outputs": [],
   "source": [
    "\n",
    "def col_rename(df, dict_rules:dict, ip=True):\n",
    "    return  df.rename(columns = dict_rules, inplace=ip)\n",
    "\n",
    "def print_unique(df, col:str):\n",
    "    return df[col].unique()\n",
    "\n",
    "def fill_nans_with_means(df, col:str):\n",
    "    ''' fills nans in column with median '''\n",
    "    return df[col].fillna(c_df.income.mean()).round()\n",
    "\n",
    "def make_lower(df, col:str):\n",
    "    return df[col].str.lower()\n",
    "\n",
    "def lower_case_column_names(df) ->pd.DataFrame:\n",
    "    ''' make column headers lower case '''\n",
    "    df.columns = [i.lower() for i in df.columns]\n",
    "    return df\n",
    "\n",
    "def strip_char(df, col:str, char:\"single character to strip\"):\n",
    "    return list(map(lambda x: round(float(x.strip(char))/100,0)  \\\n",
    "        if type(x)==str else round(x,0), df[col]))\n",
    "\n",
    "def record_str_replace(df, col:str, rules:dict):\n",
    "    return df[col].replace(rules) # additional replacement\n",
    "\n",
    "def get_between_slash_with_split(df,col:str, place):\n",
    "    return [x[place] for x in df[col].str.split('/') if type(x) != float]\n",
    "\n",
    "\n",
    "def get_between_slash(df, col: str, place):\n",
    "    ''' returns middle entry in a string formatted by \"a/b/cc\" and avoid nans '''\n",
    "    return list(map(lambda x: x[place] if type(x) == str else x, df[col]))\n",
    "\n",
    "\n",
    "def get_between_slash_and_join(df, col):\n",
    "    ''' returns middle entry in a string formatted by \"a/b/cc\" and avoid nans '''\n",
    "    return list(map(lambda x: int(x[2]) if type(x) == str else x, df[col]))\n",
    "\n",
    "\n",
    "def state(old_names, new_names):\n",
    "    return c_df['st'].replace(old_names, new_names)"
   ],
   "metadata": {
    "collapsed": false
   }
  },
  {
   "cell_type": "code",
   "execution_count": 5,
   "id": "9f3a2de1",
   "metadata": {},
   "outputs": [],
   "source": [
    "# read the data\n",
    "df_1 = pd.read_csv('Data/file1.csv')\n",
    "df_2 = pd.read_csv('Data/file2.csv')\n",
    "df_3 = pd.read_csv('Data/file3.csv')"
   ]
  },
  {
   "cell_type": "code",
   "execution_count": 6,
   "id": "49f49e0d",
   "metadata": {},
   "outputs": [
    {
     "data": {
      "text/plain": "Index(['Customer', 'ST', 'GENDER', 'Education', 'Customer Lifetime Value',\n       'Income', 'Monthly Premium Auto', 'Number of Open Complaints',\n       'Policy Type', 'Vehicle Class', 'Total Claim Amount'],\n      dtype='object')"
     },
     "execution_count": 6,
     "metadata": {},
     "output_type": "execute_result"
    },
    {
     "data": {
      "text/plain": "Index(['Customer', 'ST', 'GENDER', 'Education', 'Customer Lifetime Value',\n       'Income', 'Monthly Premium Auto', 'Number of Open Complaints',\n       'Total Claim Amount', 'Policy Type', 'Vehicle Class'],\n      dtype='object')"
     },
     "execution_count": 6,
     "metadata": {},
     "output_type": "execute_result"
    },
    {
     "data": {
      "text/plain": "Index(['Customer', 'State', 'Customer Lifetime Value', 'Education', 'Gender',\n       'Income', 'Monthly Premium Auto', 'Number of Open Complaints',\n       'Policy Type', 'Total Claim Amount', 'Vehicle Class'],\n      dtype='object')"
     },
     "execution_count": 6,
     "metadata": {},
     "output_type": "execute_result"
    }
   ],
   "source": [
    "df_1.columns\n",
    "df_2.columns\n",
    "df_3.columns"
   ]
  },
  {
   "cell_type": "code",
   "execution_count": 7,
   "id": "b6b916b7",
   "metadata": {},
   "outputs": [],
   "source": [
    "col_rename(df_3, {'State': 'ST'}) # rename State to ST"
   ]
  },
  {
   "cell_type": "code",
   "execution_count": 8,
   "id": "a9405dea",
   "metadata": {},
   "outputs": [
    {
     "name": "stdout",
     "output_type": "stream",
     "text": [
      "<class 'pandas.core.frame.DataFrame'>\n",
      "Int64Index: 12074 entries, 0 to 7069\n",
      "Data columns (total 10 columns):\n",
      " #   Column                     Non-Null Count  Dtype  \n",
      "---  ------                     --------------  -----  \n",
      " 0   st                         9137 non-null   object \n",
      " 1   gender                     9015 non-null   object \n",
      " 2   education                  9137 non-null   object \n",
      " 3   customer lifetime value    9130 non-null   object \n",
      " 4   income                     9137 non-null   float64\n",
      " 5   monthly premium auto       9137 non-null   float64\n",
      " 6   number of open complaints  9137 non-null   object \n",
      " 7   policy type                9137 non-null   object \n",
      " 8   vehicle class              9137 non-null   object \n",
      " 9   total claim amount         9137 non-null   float64\n",
      "dtypes: float64(3), object(7)\n",
      "memory usage: 1.0+ MB\n"
     ]
    }
   ],
   "source": [
    "dfs = [df_1, df_2, df_3]\n",
    "dfs = list(map(lower_case_column_names,dfs)) # make the headers lowercase\n",
    "c_df = pd.concat(dfs)                          # concat the data into a pandas frame\n",
    "c_df = c_df.drop(labels=['customer'], axis=1)    # drop customer label\n",
    "c_df.info()"
   ]
  },
  {
   "cell_type": "code",
   "execution_count": 9,
   "outputs": [
    {
     "data": {
      "text/plain": "False    9137\nTrue     2937\nName: education, dtype: int64"
     },
     "execution_count": 9,
     "metadata": {},
     "output_type": "execute_result"
    }
   ],
   "source": [
    "c_df['education'].isna().value_counts()"
   ],
   "metadata": {
    "collapsed": false
   }
  },
  {
   "cell_type": "code",
   "execution_count": 10,
   "id": "41a50642",
   "metadata": {},
   "outputs": [
    {
     "data": {
      "text/plain": "[nan, 'F', 'M', 'Femal', 'Male', 'female']"
     },
     "execution_count": 10,
     "metadata": {},
     "output_type": "execute_result"
    }
   ],
   "source": [
    "gender_old = print_unique(c_df,'gender')\n",
    "gender_old = list(gender_old)\n",
    "gender_old"
   ]
  },
  {
   "cell_type": "code",
   "execution_count": 11,
   "id": "c2179b54",
   "metadata": {},
   "outputs": [
    {
     "data": {
      "text/plain": "array(['u', 'f', 'm'], dtype=object)"
     },
     "execution_count": 11,
     "metadata": {},
     "output_type": "execute_result"
    }
   ],
   "source": [
    "gender_new           = ['u','f','m','f','m','f']\n",
    "gender_replace_rules = dict(zip(gender_old,gender_new))\n",
    "c_df['gender']       = record_str_replace(c_df,'gender',gender_replace_rules)\n",
    "print_unique(c_df,'gender')"
   ]
  },
  {
   "cell_type": "code",
   "execution_count": 12,
   "id": "9c24c995",
   "metadata": {},
   "outputs": [
    {
     "data": {
      "text/plain": "['Washington',\n 'Arizona',\n 'Nevada',\n 'California',\n 'Oregon',\n 'Cali',\n 'AZ',\n 'WA',\n nan]"
     },
     "execution_count": 12,
     "metadata": {},
     "output_type": "execute_result"
    }
   ],
   "source": [
    "state_old = print_unique(c_df,'st')\n",
    "state_old = list(state_old)\n",
    "state_old"
   ]
  },
  {
   "cell_type": "code",
   "execution_count": 13,
   "id": "db9265e7",
   "metadata": {},
   "outputs": [
    {
     "data": {
      "text/plain": "array(['Washington', 'Arizona', 'Nevada', 'California', 'Oregon',\n       'Unknown'], dtype=object)"
     },
     "execution_count": 13,
     "metadata": {},
     "output_type": "execute_result"
    }
   ],
   "source": [
    "state_new = ['Washington',\n",
    " 'Arizona',\n",
    " 'Nevada',\n",
    " 'California',\n",
    " 'Oregon',\n",
    " 'California',\n",
    " 'Arizona',\n",
    " 'Washington', 'Unknown']\n",
    "state_replace_rules = dict(zip(state_old,state_new))\n",
    "c_df['st']          = record_str_replace(c_df,'st',state_replace_rules)\n",
    "print_unique(c_df,'st')"
   ]
  },
  {
   "cell_type": "code",
   "execution_count": 14,
   "outputs": [
    {
     "data": {
      "text/plain": "False    9137\nTrue     2937\nName: number of open complaints, dtype: int64"
     },
     "execution_count": 14,
     "metadata": {},
     "output_type": "execute_result"
    }
   ],
   "source": [
    "c_df['number of open complaints'].isna().value_counts()"
   ],
   "metadata": {
    "collapsed": false
   }
  },
  {
   "cell_type": "code",
   "execution_count": 15,
   "outputs": [],
   "source": [
    "#c_df.dropna(subset=['number of open complaints'],inplace=True)"
   ],
   "metadata": {
    "collapsed": false
   }
  },
  {
   "cell_type": "code",
   "execution_count": 16,
   "id": "f697c837",
   "metadata": {},
   "outputs": [
    {
     "data": {
      "text/plain": "array([ 0.,  2.,  1.,  3.,  5.,  4., nan])"
     },
     "execution_count": 16,
     "metadata": {},
     "output_type": "execute_result"
    }
   ],
   "source": [
    "c_df['number of open complaints'] = get_between_slash_and_join(c_df,'number of open complaints')\n",
    "print_unique(c_df,'number of open complaints')"
   ]
  },
  {
   "cell_type": "code",
   "execution_count": 19,
   "outputs": [
    {
     "data": {
      "text/plain": "16468.220790    6\n5246.278375     6\n22332.439460    6\n4270.034394     6\n5107.163002     6\n               ..\n7477.176362     1\n15700.284360    1\n2968.077571     1\n5452.171237     1\n2611.836866     1\nName: customer lifetime value, Length: 8211, dtype: int64"
     },
     "execution_count": 19,
     "metadata": {},
     "output_type": "execute_result"
    }
   ],
   "source": [
    "c_df['customer lifetime value'].value_counts()"
   ],
   "metadata": {
    "collapsed": false
   }
  },
  {
   "cell_type": "code",
   "execution_count": 59,
   "id": "e766a6a9",
   "metadata": {},
   "outputs": [],
   "source": [
    "c_df['customer lifetime value'] = strip_char(c_df,'customer lifetime value','%')"
   ]
  },
  {
   "cell_type": "code",
   "execution_count": 60,
   "id": "7df7dc81",
   "metadata": {},
   "outputs": [
    {
     "data": {
      "text/plain": "3973    1898.0\n146     1899.0\n707     1904.0\n5019    1918.0\n4647    1941.0\n         ...  \n4007       NaN\n325        NaN\n372        NaN\n580        NaN\n861        NaN\nName: customer lifetime value, Length: 12074, dtype: float64"
     },
     "execution_count": 60,
     "metadata": {},
     "output_type": "execute_result"
    }
   ],
   "source": [
    "c_df['customer lifetime value'].sort_values()"
   ]
  },
  {
   "cell_type": "code",
   "execution_count": 62,
   "id": "4855776d",
   "metadata": {},
   "outputs": [
    {
     "data": {
      "text/plain": "8713"
     },
     "execution_count": 62,
     "metadata": {},
     "output_type": "execute_result"
    }
   ],
   "source": [
    "c_df.shape[0]\n",
    "c_df = c_df.drop_duplicates() # remove duplicates"
   ]
  },
  {
   "cell_type": "code",
   "execution_count": 18,
   "outputs": [
    {
     "data": {
      "text/plain": "array(['master', 'bachelor', 'high school or below', 'college',\n       'bachelors', 'doctor', nan], dtype=object)"
     },
     "execution_count": 18,
     "metadata": {},
     "output_type": "execute_result"
    }
   ],
   "source": [
    "c_df.education = make_lower(c_df, 'education')\n",
    "c_df.education.unique()"
   ],
   "metadata": {
    "collapsed": false
   }
  },
  {
   "cell_type": "code",
   "execution_count": 19,
   "outputs": [
    {
     "data": {
      "text/plain": "array(['master', 'bachelor', 'high school or below', 'college', 'doctor',\n       nan], dtype=object)"
     },
     "execution_count": 19,
     "metadata": {},
     "output_type": "execute_result"
    }
   ],
   "source": [
    "c_df.education.replace({'bachelors':'bachelor'},inplace=True)\n",
    "c_df.education.unique()"
   ],
   "metadata": {
    "collapsed": false
   }
  },
  {
   "cell_type": "code",
   "execution_count": 19,
   "outputs": [],
   "source": [],
   "metadata": {
    "collapsed": false
   }
  },
  {
   "cell_type": "code",
   "execution_count": 20,
   "outputs": [
    {
     "name": "stdout",
     "output_type": "stream",
     "text": [
      "\n",
      "        Remove missing values.\n",
      "\n",
      "        See the :ref:`User Guide <missing_data>` for more on which values are\n",
      "        considered missing, and how to work with missing data.\n",
      "\n",
      "        Parameters\n",
      "        ----------\n",
      "        axis : {0 or 'index', 1 or 'columns'}, default 0\n",
      "            Determine if rows or columns which contain missing values are\n",
      "            removed.\n",
      "\n",
      "            * 0, or 'index' : Drop rows which contain missing values.\n",
      "            * 1, or 'columns' : Drop columns which contain missing value.\n",
      "\n",
      "            .. versionchanged:: 1.0.0\n",
      "\n",
      "               Pass tuple or list to drop on multiple axes.\n",
      "               Only a single axis is allowed.\n",
      "\n",
      "        how : {'any', 'all'}, default 'any'\n",
      "            Determine if row or column is removed from DataFrame, when we have\n",
      "            at least one NA or all NA.\n",
      "\n",
      "            * 'any' : If any NA values are present, drop that row or column.\n",
      "            * 'all' : If all values are NA, drop that row or column.\n",
      "\n",
      "        thresh : int, optional\n",
      "            Require that many non-NA values.\n",
      "        subset : column label or sequence of labels, optional\n",
      "            Labels along other axis to consider, e.g. if you are dropping rows\n",
      "            these would be a list of columns to include.\n",
      "        inplace : bool, default False\n",
      "            If True, do operation inplace and return None.\n",
      "\n",
      "        Returns\n",
      "        -------\n",
      "        DataFrame or None\n",
      "            DataFrame with NA entries dropped from it or None if ``inplace=True``.\n",
      "\n",
      "        See Also\n",
      "        --------\n",
      "        DataFrame.isna: Indicate missing values.\n",
      "        DataFrame.notna : Indicate existing (non-missing) values.\n",
      "        DataFrame.fillna : Replace missing values.\n",
      "        Series.dropna : Drop missing values.\n",
      "        Index.dropna : Drop missing indices.\n",
      "\n",
      "        Examples\n",
      "        --------\n",
      "        >>> df = pd.DataFrame({\"name\": ['Alfred', 'Batman', 'Catwoman'],\n",
      "        ...                    \"toy\": [np.nan, 'Batmobile', 'Bullwhip'],\n",
      "        ...                    \"born\": [pd.NaT, pd.Timestamp(\"1940-04-25\"),\n",
      "        ...                             pd.NaT]})\n",
      "        >>> df\n",
      "               name        toy       born\n",
      "        0    Alfred        NaN        NaT\n",
      "        1    Batman  Batmobile 1940-04-25\n",
      "        2  Catwoman   Bullwhip        NaT\n",
      "\n",
      "        Drop the rows where at least one element is missing.\n",
      "\n",
      "        >>> df.dropna()\n",
      "             name        toy       born\n",
      "        1  Batman  Batmobile 1940-04-25\n",
      "\n",
      "        Drop the columns where at least one element is missing.\n",
      "\n",
      "        >>> df.dropna(axis='columns')\n",
      "               name\n",
      "        0    Alfred\n",
      "        1    Batman\n",
      "        2  Catwoman\n",
      "\n",
      "        Drop the rows where all elements are missing.\n",
      "\n",
      "        >>> df.dropna(how='all')\n",
      "               name        toy       born\n",
      "        0    Alfred        NaN        NaT\n",
      "        1    Batman  Batmobile 1940-04-25\n",
      "        2  Catwoman   Bullwhip        NaT\n",
      "\n",
      "        Keep only the rows with at least 2 non-NA values.\n",
      "\n",
      "        >>> df.dropna(thresh=2)\n",
      "               name        toy       born\n",
      "        1    Batman  Batmobile 1940-04-25\n",
      "        2  Catwoman   Bullwhip        NaT\n",
      "\n",
      "        Define in which columns to look for missing values.\n",
      "\n",
      "        >>> df.dropna(subset=['name', 'toy'])\n",
      "               name        toy       born\n",
      "        1    Batman  Batmobile 1940-04-25\n",
      "        2  Catwoman   Bullwhip        NaT\n",
      "\n",
      "        Keep the DataFrame with valid entries in the same variable.\n",
      "\n",
      "        >>> df.dropna(inplace=True)\n",
      "        >>> df\n",
      "             name        toy       born\n",
      "        1  Batman  Batmobile 1940-04-25\n",
      "        \n"
     ]
    }
   ],
   "source": [
    "print(c_df.dropna.__doc__)"
   ],
   "metadata": {
    "collapsed": false
   }
  },
  {
   "cell_type": "code",
   "execution_count": 21,
   "outputs": [],
   "source": [
    "c_df.dropna(subset=['education','gender'],inplace=True)"
   ],
   "metadata": {
    "collapsed": false
   }
  },
  {
   "cell_type": "code",
   "execution_count": 22,
   "outputs": [
    {
     "data": {
      "text/plain": "array(['master', 'bachelor', 'high school or below', 'college', 'doctor'],\n      dtype=object)"
     },
     "execution_count": 22,
     "metadata": {},
     "output_type": "execute_result"
    }
   ],
   "source": [
    "c_df.education.unique()"
   ],
   "metadata": {
    "collapsed": false
   }
  },
  {
   "cell_type": "code",
   "execution_count": 23,
   "outputs": [
    {
     "data": {
      "text/plain": "vehicle class  policy type   \nFour-Door Car  Personal Auto     3269\nTwo-Door Car   Personal Auto     1335\nSUV            Personal Auto     1247\nFour-Door Car  Corporate Auto     969\nTwo-Door Car   Corporate Auto     395\nSUV            Corporate Auto     379\nSports Car     Personal Auto      322\nFour-Door Car  Special Auto       196\nLuxury SUV     Personal Auto      136\nLuxury Car     Personal Auto      112\nSports Car     Corporate Auto     103\nSUV            Special Auto        71\nTwo-Door Car   Special Auto        68\nLuxury Car     Corporate Auto      40\nLuxury SUV     Corporate Auto      32\nSports Car     Special Auto        25\nLuxury Car     Special Auto         7\nLuxury SUV     Special Auto         6\ndtype: int64"
     },
     "execution_count": 23,
     "metadata": {},
     "output_type": "execute_result"
    }
   ],
   "source": [
    "c_df[['vehicle class','policy type']].value_counts()"
   ],
   "metadata": {
    "collapsed": false
   }
  },
  {
   "cell_type": "code",
   "execution_count": 23,
   "outputs": [],
   "source": [],
   "metadata": {
    "collapsed": false
   }
  },
  {
   "cell_type": "code",
   "execution_count": 24,
   "id": "4498bbe5",
   "metadata": {},
   "outputs": [],
   "source": [
    "c_df['customer lifetime value'] = fill_nans_with_means(c_df,'customer lifetime value').apply(round)\n",
    "c_df['total claim amount']      = fill_nans_with_means(c_df,'total claim amount').apply(round)\n",
    "c_df['monthly premium auto']    = fill_nans_with_means(c_df,'monthly premium auto').apply(round)\n",
    "c_df['income']                  = fill_nans_with_means(c_df,'income').apply(round)"
   ]
  },
  {
   "cell_type": "code",
   "execution_count": 25,
   "id": "87aec5d1",
   "metadata": {},
   "outputs": [],
   "source": [
    "c_df.income = c_df.income.replace(0, c_df.income.mean()).round(0).astype(int)"
   ]
  },
  {
   "cell_type": "code",
   "execution_count": 42,
   "outputs": [
    {
     "data": {
      "text/plain": "8706"
     },
     "execution_count": 42,
     "metadata": {},
     "output_type": "execute_result"
    }
   ],
   "source": [
    "c_df.shape[0]"
   ],
   "metadata": {
    "collapsed": false
   }
  },
  {
   "cell_type": "code",
   "execution_count": 44,
   "id": "2af5d1f3",
   "metadata": {},
   "outputs": [
    {
     "name": "stderr",
     "output_type": "stream",
     "text": [
      "/var/folders/lj/my6r3k650wl54v5nz5r6x5cm0000gn/T/ipykernel_16436/3854448317.py:1: SettingWithCopyWarning: \n",
      "A value is trying to be set on a copy of a slice from a DataFrame\n",
      "\n",
      "See the caveats in the documentation: https://pandas.pydata.org/pandas-docs/stable/user_guide/indexing.html#returning-a-view-versus-a-copy\n",
      "  c_df = c_df.drop_duplicates(inplace=True) # remove duplicates\n"
     ]
    },
    {
     "ename": "AttributeError",
     "evalue": "'NoneType' object has no attribute 'shape'",
     "output_type": "error",
     "traceback": [
      "\u001B[0;31m---------------------------------------------------------------------------\u001B[0m",
      "\u001B[0;31mAttributeError\u001B[0m                            Traceback (most recent call last)",
      "Input \u001B[0;32mIn [44]\u001B[0m, in \u001B[0;36m<cell line: 2>\u001B[0;34m()\u001B[0m\n\u001B[1;32m      1\u001B[0m c_df \u001B[38;5;241m=\u001B[39m c_df\u001B[38;5;241m.\u001B[39mdrop_duplicates(inplace\u001B[38;5;241m=\u001B[39m\u001B[38;5;28;01mTrue\u001B[39;00m) \u001B[38;5;66;03m# remove duplicates\u001B[39;00m\n\u001B[0;32m----> 2\u001B[0m \u001B[43mc_df\u001B[49m\u001B[38;5;241;43m.\u001B[39;49m\u001B[43mshape\u001B[49m[\u001B[38;5;241m0\u001B[39m]\n",
      "\u001B[0;31mAttributeError\u001B[0m: 'NoneType' object has no attribute 'shape'"
     ]
    }
   ],
   "source": [
    "c_df = c_df.drop_duplicates(inplace=True) # remove duplicates\n",
    "c_df.shape[0]"
   ]
  },
  {
   "cell_type": "code",
   "execution_count": 28,
   "id": "0979f7aa",
   "metadata": {},
   "outputs": [],
   "source": [
    "old_st     = ['California', 'Washington', 'Oregon', 'Arizona', 'Nevada']\n",
    "new_st     = ['West', 'East', 'Northeast', 'Central', 'Central']\n",
    "c_df['st'] = state(old_st,new_st)"
   ]
  },
  {
   "cell_type": "code",
   "execution_count": 29,
   "id": "3a8e2ade",
   "metadata": {},
   "outputs": [],
   "source": [
    "cols_to_lower = ['st','gender','policy type', 'vehicle class', 'education']"
   ]
  },
  {
   "cell_type": "code",
   "execution_count": 30,
   "id": "e900c410",
   "metadata": {},
   "outputs": [],
   "source": [
    "for col in cols_to_lower:\n",
    "    c_df.loc[:,col] = make_lower(c_df,col)"
   ]
  },
  {
   "cell_type": "code",
   "execution_count": 31,
   "id": "6a757723",
   "metadata": {},
   "outputs": [
    {
     "data": {
      "text/plain": "          st gender             education  customer lifetime value  income  \\\n0       east      u                master                    37707   37707   \n1    central      f              bachelor                     6980   37707   \n2    central      f              bachelor                    12887   48767   \n3       west      m              bachelor                     7646   37707   \n4       east      m  high school or below                     5363   36357   \n5  northeast      f              bachelor                     8256   62902   \n6  northeast      f               college                     5381   55350   \n7    central      m                master                     7216   37707   \n8  northeast      m              bachelor                    24128   14072   \n9  northeast      f               college                     7388   28812   \n\n   monthly premium auto  number of open complaints     policy type  \\\n0                  1000                        0.0   personal auto   \n1                    94                        0.0   personal auto   \n2                   108                        0.0   personal auto   \n3                   106                        0.0  corporate auto   \n4                    68                        0.0   personal auto   \n5                    69                        0.0   personal auto   \n6                    67                        0.0  corporate auto   \n7                   101                        0.0  corporate auto   \n8                    71                        0.0  corporate auto   \n9                    93                        0.0    special auto   \n\n   vehicle class  total claim amount  \n0  four-door car                   3  \n1  four-door car                1131  \n2   two-door car                 566  \n3            suv                 530  \n4  four-door car                  17  \n5   two-door car                 159  \n6  four-door car                 322  \n7  four-door car                 363  \n8  four-door car                 511  \n9  four-door car                 426  ",
      "text/html": "<div>\n<style scoped>\n    .dataframe tbody tr th:only-of-type {\n        vertical-align: middle;\n    }\n\n    .dataframe tbody tr th {\n        vertical-align: top;\n    }\n\n    .dataframe thead th {\n        text-align: right;\n    }\n</style>\n<table border=\"1\" class=\"dataframe\">\n  <thead>\n    <tr style=\"text-align: right;\">\n      <th></th>\n      <th>st</th>\n      <th>gender</th>\n      <th>education</th>\n      <th>customer lifetime value</th>\n      <th>income</th>\n      <th>monthly premium auto</th>\n      <th>number of open complaints</th>\n      <th>policy type</th>\n      <th>vehicle class</th>\n      <th>total claim amount</th>\n    </tr>\n  </thead>\n  <tbody>\n    <tr>\n      <th>0</th>\n      <td>east</td>\n      <td>u</td>\n      <td>master</td>\n      <td>37707</td>\n      <td>37707</td>\n      <td>1000</td>\n      <td>0.0</td>\n      <td>personal auto</td>\n      <td>four-door car</td>\n      <td>3</td>\n    </tr>\n    <tr>\n      <th>1</th>\n      <td>central</td>\n      <td>f</td>\n      <td>bachelor</td>\n      <td>6980</td>\n      <td>37707</td>\n      <td>94</td>\n      <td>0.0</td>\n      <td>personal auto</td>\n      <td>four-door car</td>\n      <td>1131</td>\n    </tr>\n    <tr>\n      <th>2</th>\n      <td>central</td>\n      <td>f</td>\n      <td>bachelor</td>\n      <td>12887</td>\n      <td>48767</td>\n      <td>108</td>\n      <td>0.0</td>\n      <td>personal auto</td>\n      <td>two-door car</td>\n      <td>566</td>\n    </tr>\n    <tr>\n      <th>3</th>\n      <td>west</td>\n      <td>m</td>\n      <td>bachelor</td>\n      <td>7646</td>\n      <td>37707</td>\n      <td>106</td>\n      <td>0.0</td>\n      <td>corporate auto</td>\n      <td>suv</td>\n      <td>530</td>\n    </tr>\n    <tr>\n      <th>4</th>\n      <td>east</td>\n      <td>m</td>\n      <td>high school or below</td>\n      <td>5363</td>\n      <td>36357</td>\n      <td>68</td>\n      <td>0.0</td>\n      <td>personal auto</td>\n      <td>four-door car</td>\n      <td>17</td>\n    </tr>\n    <tr>\n      <th>5</th>\n      <td>northeast</td>\n      <td>f</td>\n      <td>bachelor</td>\n      <td>8256</td>\n      <td>62902</td>\n      <td>69</td>\n      <td>0.0</td>\n      <td>personal auto</td>\n      <td>two-door car</td>\n      <td>159</td>\n    </tr>\n    <tr>\n      <th>6</th>\n      <td>northeast</td>\n      <td>f</td>\n      <td>college</td>\n      <td>5381</td>\n      <td>55350</td>\n      <td>67</td>\n      <td>0.0</td>\n      <td>corporate auto</td>\n      <td>four-door car</td>\n      <td>322</td>\n    </tr>\n    <tr>\n      <th>7</th>\n      <td>central</td>\n      <td>m</td>\n      <td>master</td>\n      <td>7216</td>\n      <td>37707</td>\n      <td>101</td>\n      <td>0.0</td>\n      <td>corporate auto</td>\n      <td>four-door car</td>\n      <td>363</td>\n    </tr>\n    <tr>\n      <th>8</th>\n      <td>northeast</td>\n      <td>m</td>\n      <td>bachelor</td>\n      <td>24128</td>\n      <td>14072</td>\n      <td>71</td>\n      <td>0.0</td>\n      <td>corporate auto</td>\n      <td>four-door car</td>\n      <td>511</td>\n    </tr>\n    <tr>\n      <th>9</th>\n      <td>northeast</td>\n      <td>f</td>\n      <td>college</td>\n      <td>7388</td>\n      <td>28812</td>\n      <td>93</td>\n      <td>0.0</td>\n      <td>special auto</td>\n      <td>four-door car</td>\n      <td>426</td>\n    </tr>\n  </tbody>\n</table>\n</div>"
     },
     "execution_count": 31,
     "metadata": {},
     "output_type": "execute_result"
    }
   ],
   "source": [
    "c_df.head(10)"
   ]
  },
  {
   "cell_type": "code",
   "execution_count": 31,
   "outputs": [],
   "source": [],
   "metadata": {
    "collapsed": false
   }
  },
  {
   "cell_type": "code",
   "execution_count": 32,
   "outputs": [],
   "source": [
    "col_rename(c_df,{'st':'state'})"
   ],
   "metadata": {
    "collapsed": false
   }
  },
  {
   "cell_type": "code",
   "execution_count": 33,
   "outputs": [
    {
     "data": {
      "text/plain": "        state gender             education  customer lifetime value  income  \\\n0        east      u                master                    37707   37707   \n1     central      f              bachelor                     6980   37707   \n2     central      f              bachelor                    12887   48767   \n3        west      m              bachelor                     7646   37707   \n4        east      m  high school or below                     5363   36357   \n...       ...    ...                   ...                      ...     ...   \n7064     west      f               college                     4100   47761   \n7065     west      m              bachelor                    23406   71941   \n7067     west      m              bachelor                     8164   37707   \n7068     west      m               college                     7524   21941   \n7069     west      m               college                     2612   37707   \n\n      monthly premium auto  number of open complaints     policy type  \\\n0                     1000                        0.0   personal auto   \n1                       94                        0.0   personal auto   \n2                      108                        0.0   personal auto   \n3                      106                        0.0  corporate auto   \n4                       68                        0.0   personal auto   \n...                    ...                        ...             ...   \n7064                   104                        0.0   personal auto   \n7065                    73                        0.0   personal auto   \n7067                    85                        3.0  corporate auto   \n7068                    96                        0.0   personal auto   \n7069                    77                        0.0  corporate auto   \n\n      vehicle class  total claim amount  \n0     four-door car                   3  \n1     four-door car                1131  \n2      two-door car                 566  \n3               suv                 530  \n4     four-door car                  17  \n...             ...                 ...  \n7064  four-door car                 541  \n7065  four-door car                 198  \n7067  four-door car                 791  \n7068  four-door car                 691  \n7069   two-door car                 370  \n\n[8706 rows x 10 columns]",
      "text/html": "<div>\n<style scoped>\n    .dataframe tbody tr th:only-of-type {\n        vertical-align: middle;\n    }\n\n    .dataframe tbody tr th {\n        vertical-align: top;\n    }\n\n    .dataframe thead th {\n        text-align: right;\n    }\n</style>\n<table border=\"1\" class=\"dataframe\">\n  <thead>\n    <tr style=\"text-align: right;\">\n      <th></th>\n      <th>state</th>\n      <th>gender</th>\n      <th>education</th>\n      <th>customer lifetime value</th>\n      <th>income</th>\n      <th>monthly premium auto</th>\n      <th>number of open complaints</th>\n      <th>policy type</th>\n      <th>vehicle class</th>\n      <th>total claim amount</th>\n    </tr>\n  </thead>\n  <tbody>\n    <tr>\n      <th>0</th>\n      <td>east</td>\n      <td>u</td>\n      <td>master</td>\n      <td>37707</td>\n      <td>37707</td>\n      <td>1000</td>\n      <td>0.0</td>\n      <td>personal auto</td>\n      <td>four-door car</td>\n      <td>3</td>\n    </tr>\n    <tr>\n      <th>1</th>\n      <td>central</td>\n      <td>f</td>\n      <td>bachelor</td>\n      <td>6980</td>\n      <td>37707</td>\n      <td>94</td>\n      <td>0.0</td>\n      <td>personal auto</td>\n      <td>four-door car</td>\n      <td>1131</td>\n    </tr>\n    <tr>\n      <th>2</th>\n      <td>central</td>\n      <td>f</td>\n      <td>bachelor</td>\n      <td>12887</td>\n      <td>48767</td>\n      <td>108</td>\n      <td>0.0</td>\n      <td>personal auto</td>\n      <td>two-door car</td>\n      <td>566</td>\n    </tr>\n    <tr>\n      <th>3</th>\n      <td>west</td>\n      <td>m</td>\n      <td>bachelor</td>\n      <td>7646</td>\n      <td>37707</td>\n      <td>106</td>\n      <td>0.0</td>\n      <td>corporate auto</td>\n      <td>suv</td>\n      <td>530</td>\n    </tr>\n    <tr>\n      <th>4</th>\n      <td>east</td>\n      <td>m</td>\n      <td>high school or below</td>\n      <td>5363</td>\n      <td>36357</td>\n      <td>68</td>\n      <td>0.0</td>\n      <td>personal auto</td>\n      <td>four-door car</td>\n      <td>17</td>\n    </tr>\n    <tr>\n      <th>...</th>\n      <td>...</td>\n      <td>...</td>\n      <td>...</td>\n      <td>...</td>\n      <td>...</td>\n      <td>...</td>\n      <td>...</td>\n      <td>...</td>\n      <td>...</td>\n      <td>...</td>\n    </tr>\n    <tr>\n      <th>7064</th>\n      <td>west</td>\n      <td>f</td>\n      <td>college</td>\n      <td>4100</td>\n      <td>47761</td>\n      <td>104</td>\n      <td>0.0</td>\n      <td>personal auto</td>\n      <td>four-door car</td>\n      <td>541</td>\n    </tr>\n    <tr>\n      <th>7065</th>\n      <td>west</td>\n      <td>m</td>\n      <td>bachelor</td>\n      <td>23406</td>\n      <td>71941</td>\n      <td>73</td>\n      <td>0.0</td>\n      <td>personal auto</td>\n      <td>four-door car</td>\n      <td>198</td>\n    </tr>\n    <tr>\n      <th>7067</th>\n      <td>west</td>\n      <td>m</td>\n      <td>bachelor</td>\n      <td>8164</td>\n      <td>37707</td>\n      <td>85</td>\n      <td>3.0</td>\n      <td>corporate auto</td>\n      <td>four-door car</td>\n      <td>791</td>\n    </tr>\n    <tr>\n      <th>7068</th>\n      <td>west</td>\n      <td>m</td>\n      <td>college</td>\n      <td>7524</td>\n      <td>21941</td>\n      <td>96</td>\n      <td>0.0</td>\n      <td>personal auto</td>\n      <td>four-door car</td>\n      <td>691</td>\n    </tr>\n    <tr>\n      <th>7069</th>\n      <td>west</td>\n      <td>m</td>\n      <td>college</td>\n      <td>2612</td>\n      <td>37707</td>\n      <td>77</td>\n      <td>0.0</td>\n      <td>corporate auto</td>\n      <td>two-door car</td>\n      <td>370</td>\n    </tr>\n  </tbody>\n</table>\n<p>8706 rows × 10 columns</p>\n</div>"
     },
     "execution_count": 33,
     "metadata": {},
     "output_type": "execute_result"
    }
   ],
   "source": [
    "c_df"
   ],
   "metadata": {
    "collapsed": false
   }
  },
  {
   "cell_type": "code",
   "execution_count": 34,
   "outputs": [
    {
     "data": {
      "text/plain": "{'state': 'state',\n 'gender': 'gender',\n 'education': 'education',\n 'customer lifetime value': 'customer_lifetime_value',\n 'income': 'income',\n 'monthly premium auto': 'monthly_premium_auto',\n 'number of open complaints': 'number_of_open_complaints',\n 'policy type': 'policy_type',\n 'vehicle class': 'vehicle_class',\n 'total claim amount': 'total_claim_amount'}"
     },
     "execution_count": 34,
     "metadata": {},
     "output_type": "execute_result"
    }
   ],
   "source": [
    "new_col_rules = dict(zip(list(c_df.columns), list(c_df.columns.str.replace('\\s+','_', regex=True))))\n",
    "new_col_rules"
   ],
   "metadata": {
    "collapsed": false
   }
  },
  {
   "cell_type": "code",
   "execution_count": 35,
   "outputs": [],
   "source": [
    "col_rename(c_df,new_col_rules)"
   ],
   "metadata": {
    "collapsed": false
   }
  },
  {
   "cell_type": "code",
   "execution_count": 36,
   "outputs": [
    {
     "data": {
      "text/plain": "0        personal auto\n1        personal auto\n2        personal auto\n3       corporate auto\n4        personal auto\n             ...      \n7064     personal auto\n7065     personal auto\n7067    corporate auto\n7068     personal auto\n7069    corporate auto\nName: policy_type, Length: 8706, dtype: object"
     },
     "execution_count": 36,
     "metadata": {},
     "output_type": "execute_result"
    }
   ],
   "source": [
    "c_df.policy_type"
   ],
   "metadata": {
    "collapsed": false
   }
  },
  {
   "cell_type": "code",
   "execution_count": 37,
   "outputs": [],
   "source": [
    "c_df.to_csv('Data/customer_analysis_data_cleaned.csv',index_label=False)"
   ],
   "metadata": {
    "collapsed": false
   }
  },
  {
   "cell_type": "code",
   "execution_count": 38,
   "outputs": [
    {
     "name": "stdout",
     "output_type": "stream",
     "text": [
      "\n",
      "Write object to a comma-separated values (csv) file.\n",
      "\n",
      "Parameters\n",
      "----------\n",
      "path_or_buf : str, path object, file-like object, or None, default None\n",
      "    String, path object (implementing os.PathLike[str]), or file-like\n",
      "    object implementing a write() function. If None, the result is\n",
      "    returned as a string. If a non-binary file object is passed, it should\n",
      "    be opened with `newline=''`, disabling universal newlines. If a binary\n",
      "    file object is passed, `mode` might need to contain a `'b'`.\n",
      "\n",
      "    .. versionchanged:: 1.2.0\n",
      "\n",
      "       Support for binary file objects was introduced.\n",
      "\n",
      "sep : str, default ','\n",
      "    String of length 1. Field delimiter for the output file.\n",
      "na_rep : str, default ''\n",
      "    Missing data representation.\n",
      "float_format : str, default None\n",
      "    Format string for floating point numbers.\n",
      "columns : sequence, optional\n",
      "    Columns to write.\n",
      "header : bool or list of str, default True\n",
      "    Write out the column names. If a list of strings is given it is\n",
      "    assumed to be aliases for the column names.\n",
      "index : bool, default True\n",
      "    Write row names (index).\n",
      "index_label : str or sequence, or False, default None\n",
      "    Column label for index column(s) if desired. If None is given, and\n",
      "    `header` and `index` are True, then the index names are used. A\n",
      "    sequence should be given if the object uses MultiIndex. If\n",
      "    False do not print fields for index names. Use index_label=False\n",
      "    for easier importing in R.\n",
      "mode : str\n",
      "    Python write mode, default 'w'.\n",
      "encoding : str, optional\n",
      "    A string representing the encoding to use in the output file,\n",
      "    defaults to 'utf-8'. `encoding` is not supported if `path_or_buf`\n",
      "    is a non-binary file object.\n",
      "compression : str or dict, default 'infer'\n",
      "    For on-the-fly compression of the output data. If 'infer' and '%s'\n",
      "    path-like, then detect compression from the following extensions: '.gz',\n",
      "    '.bz2', '.zip', '.xz', or '.zst' (otherwise no compression). Set to\n",
      "    ``None`` for no compression. Can also be a dict with key ``'method'`` set\n",
      "    to one of {``'zip'``, ``'gzip'``, ``'bz2'``, ``'zstd'``} and other\n",
      "    key-value pairs are forwarded to ``zipfile.ZipFile``, ``gzip.GzipFile``,\n",
      "    ``bz2.BZ2File``, or ``zstandard.ZstdDecompressor``, respectively. As an\n",
      "    example, the following could be passed for faster compression and to create\n",
      "    a reproducible gzip archive:\n",
      "    ``compression={'method': 'gzip', 'compresslevel': 1, 'mtime': 1}``.\n",
      "\n",
      "    .. versionchanged:: 1.0.0\n",
      "\n",
      "       May now be a dict with key 'method' as compression mode\n",
      "       and other entries as additional compression options if\n",
      "       compression mode is 'zip'.\n",
      "\n",
      "    .. versionchanged:: 1.1.0\n",
      "\n",
      "       Passing compression options as keys in dict is\n",
      "       supported for compression modes 'gzip', 'bz2', 'zstd', and 'zip'.\n",
      "\n",
      "    .. versionchanged:: 1.2.0\n",
      "\n",
      "        Compression is supported for binary file objects.\n",
      "\n",
      "    .. versionchanged:: 1.2.0\n",
      "\n",
      "        Previous versions forwarded dict entries for 'gzip' to\n",
      "        `gzip.open` instead of `gzip.GzipFile` which prevented\n",
      "        setting `mtime`.\n",
      "\n",
      "quoting : optional constant from csv module\n",
      "    Defaults to csv.QUOTE_MINIMAL. If you have set a `float_format`\n",
      "    then floats are converted to strings and thus csv.QUOTE_NONNUMERIC\n",
      "    will treat them as non-numeric.\n",
      "quotechar : str, default '\\\"'\n",
      "    String of length 1. Character used to quote fields.\n",
      "line_terminator : str, optional\n",
      "    The newline character or character sequence to use in the output\n",
      "    file. Defaults to `os.linesep`, which depends on the OS in which\n",
      "    this method is called ('\\\\n' for linux, '\\\\r\\\\n' for Windows, i.e.).\n",
      "chunksize : int or None\n",
      "    Rows to write at a time.\n",
      "date_format : str, default None\n",
      "    Format string for datetime objects.\n",
      "doublequote : bool, default True\n",
      "    Control quoting of `quotechar` inside a field.\n",
      "escapechar : str, default None\n",
      "    String of length 1. Character used to escape `sep` and `quotechar`\n",
      "    when appropriate.\n",
      "decimal : str, default '.'\n",
      "    Character recognized as decimal separator. E.g. use ',' for\n",
      "    European data.\n",
      "errors : str, default 'strict'\n",
      "    Specifies how encoding and decoding errors are to be handled.\n",
      "    See the errors argument for :func:`open` for a full list\n",
      "    of options.\n",
      "\n",
      "    .. versionadded:: 1.1.0\n",
      "\n",
      "storage_options : dict, optional\n",
      "    Extra options that make sense for a particular storage connection, e.g.\n",
      "    host, port, username, password, etc. For HTTP(S) URLs the key-value pairs\n",
      "    are forwarded to ``urllib`` as header options. For other URLs (e.g.\n",
      "    starting with \"s3://\", and \"gcs://\") the key-value pairs are forwarded to\n",
      "    ``fsspec``. Please see ``fsspec`` and ``urllib`` for more details.\n",
      "\n",
      "    .. versionadded:: 1.2.0\n",
      "\n",
      "Returns\n",
      "-------\n",
      "None or str\n",
      "    If path_or_buf is None, returns the resulting csv format as a\n",
      "    string. Otherwise returns None.\n",
      "\n",
      "See Also\n",
      "--------\n",
      "read_csv : Load a CSV file into a DataFrame.\n",
      "to_excel : Write DataFrame to an Excel file.\n",
      "\n",
      "Examples\n",
      "--------\n",
      ">>> df = pd.DataFrame({'name': ['Raphael', 'Donatello'],\n",
      "...                    'mask': ['red', 'purple'],\n",
      "...                    'weapon': ['sai', 'bo staff']})\n",
      ">>> df.to_csv(index=False)\n",
      "'name,mask,weapon\\nRaphael,red,sai\\nDonatello,purple,bo staff\\n'\n",
      "\n",
      "Create 'out.zip' containing 'out.csv'\n",
      "\n",
      ">>> compression_opts = dict(method='zip',\n",
      "...                         archive_name='out.csv')  # doctest: +SKIP\n",
      ">>> df.to_csv('out.zip', index=False,\n",
      "...           compression=compression_opts)  # doctest: +SKIP\n",
      "\n",
      "To write a csv file to a new folder or nested folder you will first\n",
      "need to create it using either Pathlib or os:\n",
      "\n",
      ">>> from pathlib import Path  # doctest: +SKIP\n",
      ">>> filepath = Path('folder/subfolder/out.csv')  # doctest: +SKIP\n",
      ">>> filepath.parent.mkdir(parents=True, exist_ok=True)  # doctest: +SKIP\n",
      ">>> df.to_csv(filepath)  # doctest: +SKIP\n",
      "\n",
      ">>> import os  # doctest: +SKIP\n",
      ">>> os.makedirs('folder/subfolder', exist_ok=True)  # doctest: +SKIP\n",
      ">>> df.to_csv('folder/subfolder/out.csv')  # doctest: +SKIP\n",
      "\n"
     ]
    }
   ],
   "source": [
    "print(c_df.to_csv.__doc__)"
   ],
   "metadata": {
    "collapsed": false
   }
  },
  {
   "cell_type": "code",
   "execution_count": 38,
   "outputs": [],
   "source": [],
   "metadata": {
    "collapsed": false
   }
  },
  {
   "cell_type": "code",
   "execution_count": 38,
   "outputs": [],
   "source": [],
   "metadata": {
    "collapsed": false
   }
  },
  {
   "cell_type": "code",
   "execution_count": 38,
   "outputs": [],
   "source": [],
   "metadata": {
    "collapsed": false
   }
  },
  {
   "cell_type": "code",
   "execution_count": 39,
   "id": "433335c8",
   "metadata": {},
   "outputs": [],
   "source": [
    "file4 = pd.read_csv('Data/Data_Marketing_Customer_Analysis_Round2.csv')"
   ]
  },
  {
   "cell_type": "code",
   "execution_count": 39,
   "outputs": [],
   "source": [],
   "metadata": {
    "collapsed": false
   }
  },
  {
   "cell_type": "code",
   "execution_count": 39,
   "outputs": [],
   "source": [],
   "metadata": {
    "collapsed": false
   }
  },
  {
   "cell_type": "code",
   "execution_count": 39,
   "outputs": [],
   "source": [],
   "metadata": {
    "collapsed": false
   }
  },
  {
   "cell_type": "code",
   "execution_count": 39,
   "outputs": [],
   "source": [],
   "metadata": {
    "collapsed": false
   }
  },
  {
   "cell_type": "code",
   "execution_count": 39,
   "outputs": [],
   "source": [],
   "metadata": {
    "collapsed": false
   }
  },
  {
   "cell_type": "code",
   "execution_count": 39,
   "outputs": [],
   "source": [],
   "metadata": {
    "collapsed": false
   }
  },
  {
   "cell_type": "code",
   "execution_count": 39,
   "outputs": [],
   "source": [],
   "metadata": {
    "collapsed": false
   }
  },
  {
   "cell_type": "code",
   "execution_count": 40,
   "id": "2e5c7a0d",
   "metadata": {},
   "outputs": [
    {
     "data": {
      "text/plain": "   Unnamed: 0 Customer       State  Customer Lifetime Value Response  \\\n0           0  DK49336     Arizona              4809.216960       No   \n1           1  KX64629  California              2228.525238       No   \n2           2  LZ68649  Washington             14947.917300       No   \n3           3  XL78013      Oregon             22332.439460      Yes   \n4           4  QA50777      Oregon              9025.067525       No   \n\n   Coverage Education Effective To Date EmploymentStatus Gender  ...  \\\n0     Basic   College           2/18/11         Employed      M  ...   \n1     Basic   College           1/18/11       Unemployed      F  ...   \n2     Basic  Bachelor           2/10/11         Employed      M  ...   \n3  Extended   College           1/11/11         Employed      M  ...   \n4   Premium  Bachelor           1/17/11    Medical Leave      F  ...   \n\n   Number of Open Complaints Number of Policies     Policy Type        Policy  \\\n0                        0.0                  9  Corporate Auto  Corporate L3   \n1                        0.0                  1   Personal Auto   Personal L3   \n2                        0.0                  2   Personal Auto   Personal L3   \n3                        0.0                  2  Corporate Auto  Corporate L3   \n4                        NaN                  7   Personal Auto   Personal L2   \n\n   Renew Offer Type  Sales Channel  Total Claim Amount  Vehicle Class  \\\n0            Offer3          Agent          292.800000  Four-Door Car   \n1            Offer4    Call Center          744.924331  Four-Door Car   \n2            Offer3    Call Center          480.000000            SUV   \n3            Offer2         Branch          484.013411  Four-Door Car   \n4            Offer1         Branch          707.925645  Four-Door Car   \n\n  Vehicle Size Vehicle Type  \n0      Medsize          NaN  \n1      Medsize          NaN  \n2      Medsize            A  \n3      Medsize            A  \n4      Medsize          NaN  \n\n[5 rows x 26 columns]",
      "text/html": "<div>\n<style scoped>\n    .dataframe tbody tr th:only-of-type {\n        vertical-align: middle;\n    }\n\n    .dataframe tbody tr th {\n        vertical-align: top;\n    }\n\n    .dataframe thead th {\n        text-align: right;\n    }\n</style>\n<table border=\"1\" class=\"dataframe\">\n  <thead>\n    <tr style=\"text-align: right;\">\n      <th></th>\n      <th>Unnamed: 0</th>\n      <th>Customer</th>\n      <th>State</th>\n      <th>Customer Lifetime Value</th>\n      <th>Response</th>\n      <th>Coverage</th>\n      <th>Education</th>\n      <th>Effective To Date</th>\n      <th>EmploymentStatus</th>\n      <th>Gender</th>\n      <th>...</th>\n      <th>Number of Open Complaints</th>\n      <th>Number of Policies</th>\n      <th>Policy Type</th>\n      <th>Policy</th>\n      <th>Renew Offer Type</th>\n      <th>Sales Channel</th>\n      <th>Total Claim Amount</th>\n      <th>Vehicle Class</th>\n      <th>Vehicle Size</th>\n      <th>Vehicle Type</th>\n    </tr>\n  </thead>\n  <tbody>\n    <tr>\n      <th>0</th>\n      <td>0</td>\n      <td>DK49336</td>\n      <td>Arizona</td>\n      <td>4809.216960</td>\n      <td>No</td>\n      <td>Basic</td>\n      <td>College</td>\n      <td>2/18/11</td>\n      <td>Employed</td>\n      <td>M</td>\n      <td>...</td>\n      <td>0.0</td>\n      <td>9</td>\n      <td>Corporate Auto</td>\n      <td>Corporate L3</td>\n      <td>Offer3</td>\n      <td>Agent</td>\n      <td>292.800000</td>\n      <td>Four-Door Car</td>\n      <td>Medsize</td>\n      <td>NaN</td>\n    </tr>\n    <tr>\n      <th>1</th>\n      <td>1</td>\n      <td>KX64629</td>\n      <td>California</td>\n      <td>2228.525238</td>\n      <td>No</td>\n      <td>Basic</td>\n      <td>College</td>\n      <td>1/18/11</td>\n      <td>Unemployed</td>\n      <td>F</td>\n      <td>...</td>\n      <td>0.0</td>\n      <td>1</td>\n      <td>Personal Auto</td>\n      <td>Personal L3</td>\n      <td>Offer4</td>\n      <td>Call Center</td>\n      <td>744.924331</td>\n      <td>Four-Door Car</td>\n      <td>Medsize</td>\n      <td>NaN</td>\n    </tr>\n    <tr>\n      <th>2</th>\n      <td>2</td>\n      <td>LZ68649</td>\n      <td>Washington</td>\n      <td>14947.917300</td>\n      <td>No</td>\n      <td>Basic</td>\n      <td>Bachelor</td>\n      <td>2/10/11</td>\n      <td>Employed</td>\n      <td>M</td>\n      <td>...</td>\n      <td>0.0</td>\n      <td>2</td>\n      <td>Personal Auto</td>\n      <td>Personal L3</td>\n      <td>Offer3</td>\n      <td>Call Center</td>\n      <td>480.000000</td>\n      <td>SUV</td>\n      <td>Medsize</td>\n      <td>A</td>\n    </tr>\n    <tr>\n      <th>3</th>\n      <td>3</td>\n      <td>XL78013</td>\n      <td>Oregon</td>\n      <td>22332.439460</td>\n      <td>Yes</td>\n      <td>Extended</td>\n      <td>College</td>\n      <td>1/11/11</td>\n      <td>Employed</td>\n      <td>M</td>\n      <td>...</td>\n      <td>0.0</td>\n      <td>2</td>\n      <td>Corporate Auto</td>\n      <td>Corporate L3</td>\n      <td>Offer2</td>\n      <td>Branch</td>\n      <td>484.013411</td>\n      <td>Four-Door Car</td>\n      <td>Medsize</td>\n      <td>A</td>\n    </tr>\n    <tr>\n      <th>4</th>\n      <td>4</td>\n      <td>QA50777</td>\n      <td>Oregon</td>\n      <td>9025.067525</td>\n      <td>No</td>\n      <td>Premium</td>\n      <td>Bachelor</td>\n      <td>1/17/11</td>\n      <td>Medical Leave</td>\n      <td>F</td>\n      <td>...</td>\n      <td>NaN</td>\n      <td>7</td>\n      <td>Personal Auto</td>\n      <td>Personal L2</td>\n      <td>Offer1</td>\n      <td>Branch</td>\n      <td>707.925645</td>\n      <td>Four-Door Car</td>\n      <td>Medsize</td>\n      <td>NaN</td>\n    </tr>\n  </tbody>\n</table>\n<p>5 rows × 26 columns</p>\n</div>"
     },
     "execution_count": 40,
     "metadata": {},
     "output_type": "execute_result"
    }
   ],
   "source": [
    "file4.head()"
   ]
  },
  {
   "cell_type": "code",
   "execution_count": 41,
   "id": "63b30029",
   "metadata": {},
   "outputs": [
    {
     "ename": "KeyError",
     "evalue": "'customer lifetime value'",
     "output_type": "error",
     "traceback": [
      "\u001B[0;31m---------------------------------------------------------------------------\u001B[0m",
      "\u001B[0;31mKeyError\u001B[0m                                  Traceback (most recent call last)",
      "File \u001B[0;32m~/.pyenv/versions/mambaforge-4.10.1-4/envs/ih_DA_env/lib/python3.9/site-packages/pandas/core/indexes/base.py:3621\u001B[0m, in \u001B[0;36mIndex.get_loc\u001B[0;34m(self, key, method, tolerance)\u001B[0m\n\u001B[1;32m   3620\u001B[0m \u001B[38;5;28;01mtry\u001B[39;00m:\n\u001B[0;32m-> 3621\u001B[0m     \u001B[38;5;28;01mreturn\u001B[39;00m \u001B[38;5;28;43mself\u001B[39;49m\u001B[38;5;241;43m.\u001B[39;49m\u001B[43m_engine\u001B[49m\u001B[38;5;241;43m.\u001B[39;49m\u001B[43mget_loc\u001B[49m\u001B[43m(\u001B[49m\u001B[43mcasted_key\u001B[49m\u001B[43m)\u001B[49m\n\u001B[1;32m   3622\u001B[0m \u001B[38;5;28;01mexcept\u001B[39;00m \u001B[38;5;167;01mKeyError\u001B[39;00m \u001B[38;5;28;01mas\u001B[39;00m err:\n",
      "File \u001B[0;32m~/.pyenv/versions/mambaforge-4.10.1-4/envs/ih_DA_env/lib/python3.9/site-packages/pandas/_libs/index.pyx:136\u001B[0m, in \u001B[0;36mpandas._libs.index.IndexEngine.get_loc\u001B[0;34m()\u001B[0m\n",
      "File \u001B[0;32m~/.pyenv/versions/mambaforge-4.10.1-4/envs/ih_DA_env/lib/python3.9/site-packages/pandas/_libs/index.pyx:163\u001B[0m, in \u001B[0;36mpandas._libs.index.IndexEngine.get_loc\u001B[0;34m()\u001B[0m\n",
      "File \u001B[0;32mpandas/_libs/hashtable_class_helper.pxi:5198\u001B[0m, in \u001B[0;36mpandas._libs.hashtable.PyObjectHashTable.get_item\u001B[0;34m()\u001B[0m\n",
      "File \u001B[0;32mpandas/_libs/hashtable_class_helper.pxi:5206\u001B[0m, in \u001B[0;36mpandas._libs.hashtable.PyObjectHashTable.get_item\u001B[0;34m()\u001B[0m\n",
      "\u001B[0;31mKeyError\u001B[0m: 'customer lifetime value'",
      "\nThe above exception was the direct cause of the following exception:\n",
      "\u001B[0;31mKeyError\u001B[0m                                  Traceback (most recent call last)",
      "Input \u001B[0;32mIn [41]\u001B[0m, in \u001B[0;36m<cell line: 1>\u001B[0;34m()\u001B[0m\n\u001B[0;32m----> 1\u001B[0m \u001B[43mc_df\u001B[49m\u001B[43m[\u001B[49m\u001B[38;5;124;43m'\u001B[39;49m\u001B[38;5;124;43mcustomer lifetime value\u001B[39;49m\u001B[38;5;124;43m'\u001B[39;49m\u001B[43m]\u001B[49m\n",
      "File \u001B[0;32m~/.pyenv/versions/mambaforge-4.10.1-4/envs/ih_DA_env/lib/python3.9/site-packages/pandas/core/frame.py:3505\u001B[0m, in \u001B[0;36mDataFrame.__getitem__\u001B[0;34m(self, key)\u001B[0m\n\u001B[1;32m   3503\u001B[0m \u001B[38;5;28;01mif\u001B[39;00m \u001B[38;5;28mself\u001B[39m\u001B[38;5;241m.\u001B[39mcolumns\u001B[38;5;241m.\u001B[39mnlevels \u001B[38;5;241m>\u001B[39m \u001B[38;5;241m1\u001B[39m:\n\u001B[1;32m   3504\u001B[0m     \u001B[38;5;28;01mreturn\u001B[39;00m \u001B[38;5;28mself\u001B[39m\u001B[38;5;241m.\u001B[39m_getitem_multilevel(key)\n\u001B[0;32m-> 3505\u001B[0m indexer \u001B[38;5;241m=\u001B[39m \u001B[38;5;28;43mself\u001B[39;49m\u001B[38;5;241;43m.\u001B[39;49m\u001B[43mcolumns\u001B[49m\u001B[38;5;241;43m.\u001B[39;49m\u001B[43mget_loc\u001B[49m\u001B[43m(\u001B[49m\u001B[43mkey\u001B[49m\u001B[43m)\u001B[49m\n\u001B[1;32m   3506\u001B[0m \u001B[38;5;28;01mif\u001B[39;00m is_integer(indexer):\n\u001B[1;32m   3507\u001B[0m     indexer \u001B[38;5;241m=\u001B[39m [indexer]\n",
      "File \u001B[0;32m~/.pyenv/versions/mambaforge-4.10.1-4/envs/ih_DA_env/lib/python3.9/site-packages/pandas/core/indexes/base.py:3623\u001B[0m, in \u001B[0;36mIndex.get_loc\u001B[0;34m(self, key, method, tolerance)\u001B[0m\n\u001B[1;32m   3621\u001B[0m     \u001B[38;5;28;01mreturn\u001B[39;00m \u001B[38;5;28mself\u001B[39m\u001B[38;5;241m.\u001B[39m_engine\u001B[38;5;241m.\u001B[39mget_loc(casted_key)\n\u001B[1;32m   3622\u001B[0m \u001B[38;5;28;01mexcept\u001B[39;00m \u001B[38;5;167;01mKeyError\u001B[39;00m \u001B[38;5;28;01mas\u001B[39;00m err:\n\u001B[0;32m-> 3623\u001B[0m     \u001B[38;5;28;01mraise\u001B[39;00m \u001B[38;5;167;01mKeyError\u001B[39;00m(key) \u001B[38;5;28;01mfrom\u001B[39;00m \u001B[38;5;21;01merr\u001B[39;00m\n\u001B[1;32m   3624\u001B[0m \u001B[38;5;28;01mexcept\u001B[39;00m \u001B[38;5;167;01mTypeError\u001B[39;00m:\n\u001B[1;32m   3625\u001B[0m     \u001B[38;5;66;03m# If we have a listlike key, _check_indexing_error will raise\u001B[39;00m\n\u001B[1;32m   3626\u001B[0m     \u001B[38;5;66;03m#  InvalidIndexError. Otherwise we fall through and re-raise\u001B[39;00m\n\u001B[1;32m   3627\u001B[0m     \u001B[38;5;66;03m#  the TypeError.\u001B[39;00m\n\u001B[1;32m   3628\u001B[0m     \u001B[38;5;28mself\u001B[39m\u001B[38;5;241m.\u001B[39m_check_indexing_error(key)\n",
      "\u001B[0;31mKeyError\u001B[0m: 'customer lifetime value'"
     ]
    }
   ],
   "source": [
    "c_df['customer lifetime value']"
   ]
  },
  {
   "cell_type": "code",
   "execution_count": null,
   "id": "a7fef91d",
   "metadata": {},
   "outputs": [],
   "source": [
    "dates = list(print_unique(file4,'Effective To Date'))\n",
    "date_ps = pd.Series(dates)\n",
    "date_ps_mon = list(set([x[0] for x in date_ps.str.split('/')]))\n",
    "date_ps_mon.sort()\n",
    "date_ps_mon"
   ]
  },
  {
   "cell_type": "code",
   "execution_count": null,
   "id": "52a39ab3",
   "metadata": {},
   "outputs": [],
   "source": [
    "months = ['January','February']"
   ]
  },
  {
   "cell_type": "code",
   "execution_count": null,
   "id": "ad077fad",
   "metadata": {},
   "outputs": [],
   "source": [
    "dates_dict = dict(zip(date_ps_mon,months))\n",
    "dates_dict"
   ]
  },
  {
   "cell_type": "code",
   "execution_count": null,
   "id": "71889a20",
   "metadata": {},
   "outputs": [],
   "source": [
    "file4['Effective To Date'] = [x[0] for x in file4['Effective To Date'].str.split('/')]\n",
    "file4['Effective To Date'] = record_str_replace(file4, 'Effective To Date', dates_dict)\n",
    "file4['Effective To Date']\n"
   ]
  },
  {
   "cell_type": "code",
   "execution_count": null,
   "outputs": [],
   "source": [],
   "metadata": {
    "collapsed": false
   }
  },
  {
   "cell_type": "code",
   "execution_count": null,
   "outputs": [],
   "source": [
    "c_df['income'].mean"
   ],
   "metadata": {
    "collapsed": false
   }
  },
  {
   "cell_type": "code",
   "execution_count": null,
   "outputs": [],
   "source": [],
   "metadata": {
    "collapsed": false
   }
  },
  {
   "cell_type": "code",
   "execution_count": null,
   "outputs": [],
   "source": [],
   "metadata": {
    "collapsed": false
   }
  }
 ],
 "metadata": {
  "kernelspec": {
   "display_name": "Python 3 (ipykernel)",
   "language": "python",
   "name": "python3"
  },
  "language_info": {
   "codemirror_mode": {
    "name": "ipython",
    "version": 3
   },
   "file_extension": ".py",
   "mimetype": "text/x-python",
   "name": "python",
   "nbconvert_exporter": "python",
   "pygments_lexer": "ipython3",
   "version": "3.9.13"
  }
 },
 "nbformat": 4,
 "nbformat_minor": 5
}
