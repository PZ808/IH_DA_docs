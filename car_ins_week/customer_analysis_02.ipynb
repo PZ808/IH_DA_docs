{
 "cells": [
  {
   "cell_type": "code",
   "execution_count": 7,
   "id": "68aa4fe2",
   "metadata": {},
   "outputs": [],
   "source": [
    "import numpy as np\n",
    "import pandas as pd\n",
    "pd.options.display.max_rows = 100\n",
    "from IPython.core.interactiveshell import InteractiveShell\n",
    "InteractiveShell.ast_node_interactivity = 'all'"
   ]
  },
  {
   "cell_type": "code",
   "execution_count": 8,
   "outputs": [],
   "source": [
    "# helper functions\n",
    "def col_rename(df, dict_rules:dict, ip=True):\n",
    "    return  df.rename(columns = dict_rules, inplace=ip)\n",
    "\n",
    "def print_unique(df, col:str):\n",
    "    return df[col].unique()\n",
    "\n",
    "def fill_nans_with_means(df, col:str):\n",
    "    ''' fills nans in column with median '''\n",
    "    return df[col].fillna(c_df.income.mean()).round()\n",
    "\n",
    "def make_lower(df, col:str):\n",
    "    return df[col].str.lower()\n",
    "\n",
    "def lower_case_column_names(df) ->pd.DataFrame:\n",
    "    ''' make column headers lower case '''\n",
    "    df.columns = [i.lower() for i in df.columns]\n",
    "    return df\n",
    "\n",
    "def strip_char(df, col:str, char:\"single character to strip\"):\n",
    "    return list(map(lambda x: round(float(x.strip(char))/100,0)  \\\n",
    "        if type(x)==str else round(x,0), df[col]))\n",
    "\n",
    "def record_str_replace(df, col:str, rules:dict):\n",
    "    return df[col].replace(rules) # additional replacement\n",
    "\n",
    "def get_between_slash_with_split(df,col:str, place):\n",
    "    return [x[place] for x in df[col].str.split('/') if type(x) != float]\n",
    "\n",
    "\n",
    "def get_between_slash(df, col: str, place):\n",
    "    ''' returns middle entry in a string formatted by \"a/b/cc\" and avoid nans '''\n",
    "    return list(map(lambda x: x[place] if type(x) == str else x, df[col]))\n",
    "\n",
    "\n",
    "def get_between_slash_and_join(df, col):\n",
    "    ''' returns middle entry in a string formatted by \"a/b/cc\" and avoid nans '''\n",
    "    return list(map(lambda x: int(x[2]) if type(x) == str else x, df[col]))\n",
    "\n",
    "\n",
    "def state(old_names, new_names):\n",
    "    return c_df['st'].replace(old_names, new_names)"
   ],
   "metadata": {
    "collapsed": false
   }
  },
  {
   "cell_type": "code",
   "execution_count": 9,
   "outputs": [
    {
     "data": {
      "text/plain": "        state gender             education  customer_lifetime_value  income  \\\n0        east      u                master                    37707   37707   \n1     central      f              bachelor                     6980   37707   \n2     central      f              bachelor                    12887   48767   \n3        west      m              bachelor                     7646   37707   \n4        east      m  high school or below                     5363   36357   \n...       ...    ...                   ...                      ...     ...   \n7064     west      f               college                     4100   47761   \n7065     west      m              bachelor                    23406   71941   \n7067     west      m              bachelor                     8164   37707   \n7068     west      m               college                     7524   21941   \n7069     west      m               college                     2612   37707   \n\n      monthly_premium_auto  number_of_open_complaints     policy_type  \\\n0                     1000                        0.0   personal auto   \n1                       94                        0.0   personal auto   \n2                      108                        0.0   personal auto   \n3                      106                        0.0  corporate auto   \n4                       68                        0.0   personal auto   \n...                    ...                        ...             ...   \n7064                   104                        0.0   personal auto   \n7065                    73                        0.0   personal auto   \n7067                    85                        3.0  corporate auto   \n7068                    96                        0.0   personal auto   \n7069                    77                        0.0  corporate auto   \n\n      vehicle_class  total_claim_amount  \n0     four-door car                   3  \n1     four-door car                1131  \n2      two-door car                 566  \n3               suv                 530  \n4     four-door car                  17  \n...             ...                 ...  \n7064  four-door car                 541  \n7065  four-door car                 198  \n7067  four-door car                 791  \n7068  four-door car                 691  \n7069   two-door car                 370  \n\n[8706 rows x 10 columns]",
      "text/html": "<div>\n<style scoped>\n    .dataframe tbody tr th:only-of-type {\n        vertical-align: middle;\n    }\n\n    .dataframe tbody tr th {\n        vertical-align: top;\n    }\n\n    .dataframe thead th {\n        text-align: right;\n    }\n</style>\n<table border=\"1\" class=\"dataframe\">\n  <thead>\n    <tr style=\"text-align: right;\">\n      <th></th>\n      <th>state</th>\n      <th>gender</th>\n      <th>education</th>\n      <th>customer_lifetime_value</th>\n      <th>income</th>\n      <th>monthly_premium_auto</th>\n      <th>number_of_open_complaints</th>\n      <th>policy_type</th>\n      <th>vehicle_class</th>\n      <th>total_claim_amount</th>\n    </tr>\n  </thead>\n  <tbody>\n    <tr>\n      <th>0</th>\n      <td>east</td>\n      <td>u</td>\n      <td>master</td>\n      <td>37707</td>\n      <td>37707</td>\n      <td>1000</td>\n      <td>0.0</td>\n      <td>personal auto</td>\n      <td>four-door car</td>\n      <td>3</td>\n    </tr>\n    <tr>\n      <th>1</th>\n      <td>central</td>\n      <td>f</td>\n      <td>bachelor</td>\n      <td>6980</td>\n      <td>37707</td>\n      <td>94</td>\n      <td>0.0</td>\n      <td>personal auto</td>\n      <td>four-door car</td>\n      <td>1131</td>\n    </tr>\n    <tr>\n      <th>2</th>\n      <td>central</td>\n      <td>f</td>\n      <td>bachelor</td>\n      <td>12887</td>\n      <td>48767</td>\n      <td>108</td>\n      <td>0.0</td>\n      <td>personal auto</td>\n      <td>two-door car</td>\n      <td>566</td>\n    </tr>\n    <tr>\n      <th>3</th>\n      <td>west</td>\n      <td>m</td>\n      <td>bachelor</td>\n      <td>7646</td>\n      <td>37707</td>\n      <td>106</td>\n      <td>0.0</td>\n      <td>corporate auto</td>\n      <td>suv</td>\n      <td>530</td>\n    </tr>\n    <tr>\n      <th>4</th>\n      <td>east</td>\n      <td>m</td>\n      <td>high school or below</td>\n      <td>5363</td>\n      <td>36357</td>\n      <td>68</td>\n      <td>0.0</td>\n      <td>personal auto</td>\n      <td>four-door car</td>\n      <td>17</td>\n    </tr>\n    <tr>\n      <th>...</th>\n      <td>...</td>\n      <td>...</td>\n      <td>...</td>\n      <td>...</td>\n      <td>...</td>\n      <td>...</td>\n      <td>...</td>\n      <td>...</td>\n      <td>...</td>\n      <td>...</td>\n    </tr>\n    <tr>\n      <th>7064</th>\n      <td>west</td>\n      <td>f</td>\n      <td>college</td>\n      <td>4100</td>\n      <td>47761</td>\n      <td>104</td>\n      <td>0.0</td>\n      <td>personal auto</td>\n      <td>four-door car</td>\n      <td>541</td>\n    </tr>\n    <tr>\n      <th>7065</th>\n      <td>west</td>\n      <td>m</td>\n      <td>bachelor</td>\n      <td>23406</td>\n      <td>71941</td>\n      <td>73</td>\n      <td>0.0</td>\n      <td>personal auto</td>\n      <td>four-door car</td>\n      <td>198</td>\n    </tr>\n    <tr>\n      <th>7067</th>\n      <td>west</td>\n      <td>m</td>\n      <td>bachelor</td>\n      <td>8164</td>\n      <td>37707</td>\n      <td>85</td>\n      <td>3.0</td>\n      <td>corporate auto</td>\n      <td>four-door car</td>\n      <td>791</td>\n    </tr>\n    <tr>\n      <th>7068</th>\n      <td>west</td>\n      <td>m</td>\n      <td>college</td>\n      <td>7524</td>\n      <td>21941</td>\n      <td>96</td>\n      <td>0.0</td>\n      <td>personal auto</td>\n      <td>four-door car</td>\n      <td>691</td>\n    </tr>\n    <tr>\n      <th>7069</th>\n      <td>west</td>\n      <td>m</td>\n      <td>college</td>\n      <td>2612</td>\n      <td>37707</td>\n      <td>77</td>\n      <td>0.0</td>\n      <td>corporate auto</td>\n      <td>two-door car</td>\n      <td>370</td>\n    </tr>\n  </tbody>\n</table>\n<p>8706 rows × 10 columns</p>\n</div>"
     },
     "execution_count": 9,
     "metadata": {},
     "output_type": "execute_result"
    }
   ],
   "source": [
    "c_df = pd.read_csv('Data/customer_analysis_data_cleaned.csv')\n",
    "c_df"
   ],
   "metadata": {
    "collapsed": false
   }
  },
  {
   "cell_type": "code",
   "execution_count": 10,
   "outputs": [],
   "source": [
    "col_rename(c_df, {'state':'region'})"
   ],
   "metadata": {
    "collapsed": false
   }
  },
  {
   "cell_type": "code",
   "execution_count": 11,
   "outputs": [
    {
     "data": {
      "text/plain": "10037"
     },
     "execution_count": 11,
     "metadata": {},
     "output_type": "execute_result"
    }
   ],
   "source": [
    "c_df.income.min()"
   ],
   "metadata": {
    "collapsed": false
   }
  },
  {
   "cell_type": "code",
   "execution_count": 12,
   "outputs": [
    {
     "data": {
      "text/plain": "array(['four-door car', 'two-door car', 'suv', 'luxury suv', 'sports car',\n       'luxury car'], dtype=object)"
     },
     "execution_count": 12,
     "metadata": {},
     "output_type": "execute_result"
    }
   ],
   "source": [
    "c_df.vehicle_class.unique()"
   ],
   "metadata": {
    "collapsed": false
   }
  },
  {
   "cell_type": "code",
   "execution_count": 13,
   "outputs": [
    {
     "data": {
      "text/plain": "array(['four-door car', 'two-door car', 'suv', 'luxury vehicle',\n       'sports car'], dtype=object)"
     },
     "execution_count": 13,
     "metadata": {},
     "output_type": "execute_result"
    }
   ],
   "source": [
    "c_df.vehicle_class.replace({'luxury suv': 'luxury vehicle', 'luxury car':'luxury vehicle'},inplace=True)\n",
    "c_df.vehicle_class.unique()"
   ],
   "metadata": {
    "collapsed": false
   }
  },
  {
   "cell_type": "code",
   "execution_count": 13,
   "outputs": [],
   "source": [],
   "metadata": {
    "collapsed": false
   }
  },
  {
   "cell_type": "code",
   "execution_count": 14,
   "outputs": [],
   "source": [
    "from scipy.stats import iqr"
   ],
   "metadata": {
    "collapsed": false
   }
  },
  {
   "cell_type": "code",
   "execution_count": 15,
   "outputs": [
    {
     "name": "stdout",
     "output_type": "stream",
     "text": [
      "\n",
      "    Compute the interquartile range of the data along the specified axis.\n",
      "\n",
      "    The interquartile range (IQR) is the difference between the 75th and\n",
      "    25th percentile of the data. It is a measure of the dispersion\n",
      "    similar to standard deviation or variance, but is much more robust\n",
      "    against outliers [2]_.\n",
      "\n",
      "    The ``rng`` parameter allows this function to compute other\n",
      "    percentile ranges than the actual IQR. For example, setting\n",
      "    ``rng=(0, 100)`` is equivalent to `numpy.ptp`.\n",
      "\n",
      "    The IQR of an empty array is `np.nan`.\n",
      "\n",
      "    .. versionadded:: 0.18.0\n",
      "\n",
      "    Parameters\n",
      "    ----------\n",
      "    x : array_like\n",
      "        Input array or object that can be converted to an array.\n",
      "    axis : int or sequence of int, optional\n",
      "        Axis along which the range is computed. The default is to\n",
      "        compute the IQR for the entire array.\n",
      "    rng : Two-element sequence containing floats in range of [0,100] optional\n",
      "        Percentiles over which to compute the range. Each must be\n",
      "        between 0 and 100, inclusive. The default is the true IQR:\n",
      "        ``(25, 75)``. The order of the elements is not important.\n",
      "    scale : scalar or str, optional\n",
      "        The numerical value of scale will be divided out of the final\n",
      "        result. The following string values are recognized:\n",
      "\n",
      "          * 'raw' : No scaling, just return the raw IQR.\n",
      "            **Deprecated!**  Use ``scale=1`` instead.\n",
      "          * 'normal' : Scale by\n",
      "            :math:`2 \\sqrt{2} erf^{-1}(\\frac{1}{2}) \\approx 1.349`.\n",
      "\n",
      "        The default is 1.0. The use of ``scale='raw'`` is deprecated.\n",
      "        Array-like `scale` is also allowed, as long\n",
      "        as it broadcasts correctly to the output such that\n",
      "        ``out / scale`` is a valid operation. The output dimensions\n",
      "        depend on the input array, `x`, the `axis` argument, and the\n",
      "        `keepdims` flag.\n",
      "    nan_policy : {'propagate', 'raise', 'omit'}, optional\n",
      "        Defines how to handle when input contains nan.\n",
      "        The following options are available (default is 'propagate'):\n",
      "\n",
      "          * 'propagate': returns nan\n",
      "          * 'raise': throws an error\n",
      "          * 'omit': performs the calculations ignoring nan values\n",
      "    interpolation : str, optional\n",
      "\n",
      "        Specifies the interpolation method to use when the percentile\n",
      "        boundaries lie between two data points ``i`` and ``j``.\n",
      "        The following options are available (default is 'linear'):\n",
      "\n",
      "          * 'linear': ``i + (j - i)*fraction``, where ``fraction`` is the\n",
      "            fractional part of the index surrounded by ``i`` and ``j``.\n",
      "          * 'lower': ``i``.\n",
      "          * 'higher': ``j``.\n",
      "          * 'nearest': ``i`` or ``j`` whichever is nearest.\n",
      "          * 'midpoint': ``(i + j)/2``.\n",
      "\n",
      "        For NumPy >= 1.22.0, the additional options provided by the ``method``\n",
      "        keyword of `numpy.percentile` are also valid.\n",
      "\n",
      "    keepdims : bool, optional\n",
      "        If this is set to True, the reduced axes are left in the\n",
      "        result as dimensions with size one. With this option, the result\n",
      "        will broadcast correctly against the original array `x`.\n",
      "\n",
      "    Returns\n",
      "    -------\n",
      "    iqr : scalar or ndarray\n",
      "        If ``axis=None``, a scalar is returned. If the input contains\n",
      "        integers or floats of smaller precision than ``np.float64``, then the\n",
      "        output data-type is ``np.float64``. Otherwise, the output data-type is\n",
      "        the same as that of the input.\n",
      "\n",
      "    See Also\n",
      "    --------\n",
      "    numpy.std, numpy.var\n",
      "\n",
      "    References\n",
      "    ----------\n",
      "    .. [1] \"Interquartile range\" https://en.wikipedia.org/wiki/Interquartile_range\n",
      "    .. [2] \"Robust measures of scale\" https://en.wikipedia.org/wiki/Robust_measures_of_scale\n",
      "    .. [3] \"Quantile\" https://en.wikipedia.org/wiki/Quantile\n",
      "\n",
      "    Examples\n",
      "    --------\n",
      "    >>> from scipy.stats import iqr\n",
      "    >>> x = np.array([[10, 7, 4], [3, 2, 1]])\n",
      "    >>> x\n",
      "    array([[10,  7,  4],\n",
      "           [ 3,  2,  1]])\n",
      "    >>> iqr(x)\n",
      "    4.0\n",
      "    >>> iqr(x, axis=0)\n",
      "    array([ 3.5,  2.5,  1.5])\n",
      "    >>> iqr(x, axis=1)\n",
      "    array([ 3.,  1.])\n",
      "    >>> iqr(x, axis=1, keepdims=True)\n",
      "    array([[ 3.],\n",
      "           [ 1.]])\n",
      "\n",
      "    \n"
     ]
    }
   ],
   "source": [
    "print(iqr.__doc__)"
   ],
   "metadata": {
    "collapsed": false
   }
  },
  {
   "cell_type": "code",
   "execution_count": 16,
   "outputs": [
    {
     "name": "stdout",
     "output_type": "stream",
     "text": [
      "<class 'pandas.core.frame.DataFrame'>\n",
      "Int64Index: 8706 entries, 0 to 7069\n",
      "Data columns (total 10 columns):\n",
      " #   Column                     Non-Null Count  Dtype  \n",
      "---  ------                     --------------  -----  \n",
      " 0   region                     8706 non-null   object \n",
      " 1   gender                     8706 non-null   object \n",
      " 2   education                  8706 non-null   object \n",
      " 3   customer_lifetime_value    8706 non-null   int64  \n",
      " 4   income                     8706 non-null   int64  \n",
      " 5   monthly_premium_auto       8706 non-null   int64  \n",
      " 6   number_of_open_complaints  8706 non-null   float64\n",
      " 7   policy_type                8706 non-null   object \n",
      " 8   vehicle_class              8706 non-null   object \n",
      " 9   total_claim_amount         8706 non-null   int64  \n",
      "dtypes: float64(1), int64(4), object(5)\n",
      "memory usage: 748.2+ KB\n"
     ]
    }
   ],
   "source": [
    "c_df.info()"
   ],
   "metadata": {
    "collapsed": false
   }
  },
  {
   "cell_type": "code",
   "execution_count": 17,
   "outputs": [],
   "source": [
    "numerics_df   = c_df.select_dtypes(include=np.number)\n",
    "cats_df       = c_df.select_dtypes(include=object)"
   ],
   "metadata": {
    "collapsed": false
   }
  },
  {
   "cell_type": "code",
   "execution_count": 18,
   "outputs": [
    {
     "name": "stdout",
     "output_type": "stream",
     "text": [
      "\n",
      "        Return values at the given quantile over requested axis.\n",
      "\n",
      "        Parameters\n",
      "        ----------\n",
      "        q : float or array-like, default 0.5 (50% quantile)\n",
      "            Value between 0 <= q <= 1, the quantile(s) to compute.\n",
      "        axis : {0, 1, 'index', 'columns'}, default 0\n",
      "            Equals 0 or 'index' for row-wise, 1 or 'columns' for column-wise.\n",
      "        numeric_only : bool, default True\n",
      "            If False, the quantile of datetime and timedelta data will be\n",
      "            computed as well.\n",
      "        interpolation : {'linear', 'lower', 'higher', 'midpoint', 'nearest'}\n",
      "            This optional parameter specifies the interpolation method to use,\n",
      "            when the desired quantile lies between two data points `i` and `j`:\n",
      "\n",
      "            * linear: `i + (j - i) * fraction`, where `fraction` is the\n",
      "              fractional part of the index surrounded by `i` and `j`.\n",
      "            * lower: `i`.\n",
      "            * higher: `j`.\n",
      "            * nearest: `i` or `j` whichever is nearest.\n",
      "            * midpoint: (`i` + `j`) / 2.\n",
      "\n",
      "        Returns\n",
      "        -------\n",
      "        Series or DataFrame\n",
      "\n",
      "            If ``q`` is an array, a DataFrame will be returned where the\n",
      "              index is ``q``, the columns are the columns of self, and the\n",
      "              values are the quantiles.\n",
      "            If ``q`` is a float, a Series will be returned where the\n",
      "              index is the columns of self and the values are the quantiles.\n",
      "\n",
      "        See Also\n",
      "        --------\n",
      "        core.window.Rolling.quantile: Rolling quantile.\n",
      "        numpy.percentile: Numpy function to compute the percentile.\n",
      "\n",
      "        Examples\n",
      "        --------\n",
      "        >>> df = pd.DataFrame(np.array([[1, 1], [2, 10], [3, 100], [4, 100]]),\n",
      "        ...                   columns=['a', 'b'])\n",
      "        >>> df.quantile(.1)\n",
      "        a    1.3\n",
      "        b    3.7\n",
      "        Name: 0.1, dtype: float64\n",
      "        >>> df.quantile([.1, .5])\n",
      "               a     b\n",
      "        0.1  1.3   3.7\n",
      "        0.5  2.5  55.0\n",
      "\n",
      "        Specifying `numeric_only=False` will also compute the quantile of\n",
      "        datetime and timedelta data.\n",
      "\n",
      "        >>> df = pd.DataFrame({'A': [1, 2],\n",
      "        ...                    'B': [pd.Timestamp('2010'),\n",
      "        ...                          pd.Timestamp('2011')],\n",
      "        ...                    'C': [pd.Timedelta('1 days'),\n",
      "        ...                          pd.Timedelta('2 days')]})\n",
      "        >>> df.quantile(0.5, numeric_only=False)\n",
      "        A                    1.5\n",
      "        B    2010-07-02 12:00:00\n",
      "        C        1 days 12:00:00\n",
      "        Name: 0.5, dtype: object\n",
      "        \n"
     ]
    }
   ],
   "source": [
    "print(c_df.quantile.__doc__)"
   ],
   "metadata": {
    "collapsed": false
   }
  },
  {
   "cell_type": "code",
   "execution_count": 19,
   "outputs": [
    {
     "data": {
      "text/plain": "customer_lifetime_value       3982.75\nincome                       34856.75\nmonthly_premium_auto            68.00\nnumber_of_open_complaints        0.00\ntotal_claim_amount             265.00\nName: 0.25, dtype: float64"
     },
     "execution_count": 19,
     "metadata": {},
     "output_type": "execute_result"
    }
   ],
   "source": [
    "c_df.quantile(.25)"
   ],
   "metadata": {
    "collapsed": false
   }
  },
  {
   "cell_type": "code",
   "execution_count": 25,
   "outputs": [],
   "source": [
    "def outlier_mask(df) -> pd.Series:\n",
    "    \"\"\" returns a df of boolean values to used to index a trimmed table in the 1.5*IQR range\"\"\"\n",
    "    q1 = df.quantile(0.25)\n",
    "    q3 = df.quantile(0.75)\n",
    "    iqr = q3 - q1\n",
    "    return  ~((df < (q1 -  1.5*iqr)) |(df > (q3 + 1.5*iqr))) #"
   ],
   "metadata": {
    "collapsed": false
   }
  },
  {
   "cell_type": "code",
   "execution_count": 21,
   "outputs": [
    {
     "data": {
      "text/plain": "       customer_lifetime_value        income  monthly_premium_auto  \\\ncount              8706.000000   8706.000000           8706.000000   \nmean               8011.788307  47396.068573            110.594762   \nstd                6888.027238  21648.270739            591.626545   \nmin                1898.000000  10037.000000             61.000000   \n25%                3982.750000  34856.750000             68.000000   \n50%                5789.500000  37707.000000             83.000000   \n75%                8935.000000  62373.750000            109.000000   \nmax               83325.000000  99981.000000          35354.000000   \n\n       number_of_open_complaints  total_claim_amount  \ncount                8706.000000         8706.000000  \nmean                    0.386860          431.266942  \nstd                     0.911164          291.519072  \nmin                     0.000000            0.000000  \n25%                     0.000000          265.000000  \n50%                     0.000000          378.000000  \n75%                     0.000000          547.000000  \nmax                     5.000000         2893.000000  ",
      "text/html": "<div>\n<style scoped>\n    .dataframe tbody tr th:only-of-type {\n        vertical-align: middle;\n    }\n\n    .dataframe tbody tr th {\n        vertical-align: top;\n    }\n\n    .dataframe thead th {\n        text-align: right;\n    }\n</style>\n<table border=\"1\" class=\"dataframe\">\n  <thead>\n    <tr style=\"text-align: right;\">\n      <th></th>\n      <th>customer_lifetime_value</th>\n      <th>income</th>\n      <th>monthly_premium_auto</th>\n      <th>number_of_open_complaints</th>\n      <th>total_claim_amount</th>\n    </tr>\n  </thead>\n  <tbody>\n    <tr>\n      <th>count</th>\n      <td>8706.000000</td>\n      <td>8706.000000</td>\n      <td>8706.000000</td>\n      <td>8706.000000</td>\n      <td>8706.000000</td>\n    </tr>\n    <tr>\n      <th>mean</th>\n      <td>8011.788307</td>\n      <td>47396.068573</td>\n      <td>110.594762</td>\n      <td>0.386860</td>\n      <td>431.266942</td>\n    </tr>\n    <tr>\n      <th>std</th>\n      <td>6888.027238</td>\n      <td>21648.270739</td>\n      <td>591.626545</td>\n      <td>0.911164</td>\n      <td>291.519072</td>\n    </tr>\n    <tr>\n      <th>min</th>\n      <td>1898.000000</td>\n      <td>10037.000000</td>\n      <td>61.000000</td>\n      <td>0.000000</td>\n      <td>0.000000</td>\n    </tr>\n    <tr>\n      <th>25%</th>\n      <td>3982.750000</td>\n      <td>34856.750000</td>\n      <td>68.000000</td>\n      <td>0.000000</td>\n      <td>265.000000</td>\n    </tr>\n    <tr>\n      <th>50%</th>\n      <td>5789.500000</td>\n      <td>37707.000000</td>\n      <td>83.000000</td>\n      <td>0.000000</td>\n      <td>378.000000</td>\n    </tr>\n    <tr>\n      <th>75%</th>\n      <td>8935.000000</td>\n      <td>62373.750000</td>\n      <td>109.000000</td>\n      <td>0.000000</td>\n      <td>547.000000</td>\n    </tr>\n    <tr>\n      <th>max</th>\n      <td>83325.000000</td>\n      <td>99981.000000</td>\n      <td>35354.000000</td>\n      <td>5.000000</td>\n      <td>2893.000000</td>\n    </tr>\n  </tbody>\n</table>\n</div>"
     },
     "execution_count": 21,
     "metadata": {},
     "output_type": "execute_result"
    }
   ],
   "source": [
    "numerics_df.describe()"
   ],
   "metadata": {
    "collapsed": false
   }
  },
  {
   "cell_type": "code",
   "execution_count": 28,
   "outputs": [
    {
     "data": {
      "text/plain": "Index(['customer_lifetime_value', 'income', 'monthly_premium_auto',\n       'number_of_open_complaints', 'total_claim_amount'],\n      dtype='object')"
     },
     "execution_count": 28,
     "metadata": {},
     "output_type": "execute_result"
    }
   ],
   "source": [
    "numerics_df.columns"
   ],
   "metadata": {
    "collapsed": false
   }
  },
  {
   "cell_type": "code",
   "execution_count": 29,
   "outputs": [
    {
     "data": {
      "text/plain": "   customer_lifetime_value  income  monthly_premium_auto  \\\n1                     6980   37707                    94   \n2                    12887   48767                   108   \n3                     7646   37707                   106   \n4                     5363   36357                    68   \n5                     8256   62902                    69   \n\n   number_of_open_complaints  total_claim_amount  \n1                        0.0                1131  \n2                        0.0                 566  \n3                        0.0                 530  \n4                        0.0                  17  \n5                        0.0                 159  ",
      "text/html": "<div>\n<style scoped>\n    .dataframe tbody tr th:only-of-type {\n        vertical-align: middle;\n    }\n\n    .dataframe tbody tr th {\n        vertical-align: top;\n    }\n\n    .dataframe thead th {\n        text-align: right;\n    }\n</style>\n<table border=\"1\" class=\"dataframe\">\n  <thead>\n    <tr style=\"text-align: right;\">\n      <th></th>\n      <th>customer_lifetime_value</th>\n      <th>income</th>\n      <th>monthly_premium_auto</th>\n      <th>number_of_open_complaints</th>\n      <th>total_claim_amount</th>\n    </tr>\n  </thead>\n  <tbody>\n    <tr>\n      <th>1</th>\n      <td>6980</td>\n      <td>37707</td>\n      <td>94</td>\n      <td>0.0</td>\n      <td>1131</td>\n    </tr>\n    <tr>\n      <th>2</th>\n      <td>12887</td>\n      <td>48767</td>\n      <td>108</td>\n      <td>0.0</td>\n      <td>566</td>\n    </tr>\n    <tr>\n      <th>3</th>\n      <td>7646</td>\n      <td>37707</td>\n      <td>106</td>\n      <td>0.0</td>\n      <td>530</td>\n    </tr>\n    <tr>\n      <th>4</th>\n      <td>5363</td>\n      <td>36357</td>\n      <td>68</td>\n      <td>0.0</td>\n      <td>17</td>\n    </tr>\n    <tr>\n      <th>5</th>\n      <td>8256</td>\n      <td>62902</td>\n      <td>69</td>\n      <td>0.0</td>\n      <td>159</td>\n    </tr>\n  </tbody>\n</table>\n</div>"
     },
     "execution_count": 29,
     "metadata": {},
     "output_type": "execute_result"
    }
   ],
   "source": [
    "numerics_df.head()"
   ],
   "metadata": {
    "collapsed": false
   }
  },
  {
   "cell_type": "code",
   "execution_count": 26,
   "outputs": [
    {
     "data": {
      "text/plain": "['customer_lifetime_value',\n 'income',\n 'monthly_premium_auto',\n 'number_of_open_complaints']"
     },
     "execution_count": 26,
     "metadata": {},
     "output_type": "execute_result"
    }
   ],
   "source": [
    "cols_to_trim = list(numerics_df.drop(['total_claim_amount'],axis=1).columns)\n",
    "cols_to_trim\n",
    "# boolean index list of \"inliers\"\n",
    "inliers_idx = outlier_mask(numerics_df[cols_to_trim]).all(axis='columns')\n",
    "# select subset of the data\n",
    "numerics_df = numerics_df[inliers_idx]\n",
    "cats_df = cats_df[inliers_idx]"
   ],
   "metadata": {
    "collapsed": false
   }
  },
  {
   "cell_type": "code",
   "execution_count": 27,
   "outputs": [
    {
     "data": {
      "text/plain": "1       True\n2       True\n3       True\n4       True\n5       True\n        ... \n7062    True\n7063    True\n7064    True\n7068    True\n7069    True\nLength: 6047, dtype: bool"
     },
     "execution_count": 27,
     "metadata": {},
     "output_type": "execute_result"
    }
   ],
   "source": [
    "inliers_idx"
   ],
   "metadata": {
    "collapsed": false
   }
  },
  {
   "cell_type": "code",
   "execution_count": 23,
   "outputs": [
    {
     "data": {
      "text/plain": "pandas.core.series.Series"
     },
     "execution_count": 23,
     "metadata": {},
     "output_type": "execute_result"
    }
   ],
   "source": [
    "`type(outlier_mask(numerics_df[cols_to_trim]).all(axis='columns'))"
   ],
   "metadata": {
    "collapsed": false
   }
  },
  {
   "cell_type": "code",
   "execution_count": 24,
   "outputs": [
    {
     "name": "stdout",
     "output_type": "stream",
     "text": [
      "\n",
      "Return whether all elements are True, potentially over an axis.\n",
      "\n",
      "Returns True unless there at least one element within a series or\n",
      "along a Dataframe axis that is False or equivalent (e.g. zero or\n",
      "empty).\n",
      "\n",
      "Parameters\n",
      "----------\n",
      "axis : {0 or 'index', 1 or 'columns', None}, default 0\n",
      "    Indicate which axis or axes should be reduced.\n",
      "\n",
      "    * 0 / 'index' : reduce the index, return a Series whose index is the\n",
      "      original column labels.\n",
      "    * 1 / 'columns' : reduce the columns, return a Series whose index is the\n",
      "      original index.\n",
      "    * None : reduce all axes, return a scalar.\n",
      "\n",
      "bool_only : bool, default None\n",
      "    Include only boolean columns. If None, will attempt to use everything,\n",
      "    then use only boolean data. Not implemented for Series.\n",
      "skipna : bool, default True\n",
      "    Exclude NA/null values. If the entire row/column is NA and skipna is\n",
      "    True, then the result will be True, as for an empty row/column.\n",
      "    If skipna is False, then NA are treated as True, because these are not\n",
      "    equal to zero.\n",
      "level : int or level name, default None\n",
      "    If the axis is a MultiIndex (hierarchical), count along a\n",
      "    particular level, collapsing into a Series.\n",
      "**kwargs : any, default None\n",
      "    Additional keywords have no effect but might be accepted for\n",
      "    compatibility with NumPy.\n",
      "\n",
      "Returns\n",
      "-------\n",
      "Series or DataFrame\n",
      "    If level is specified, then, DataFrame is returned; otherwise, Series\n",
      "    is returned.\n",
      "\n",
      "See Also\n",
      "--------\n",
      "Series.all : Return True if all elements are True.\n",
      "DataFrame.any : Return True if one (or more) elements are True.\n",
      "\n",
      "Examples\n",
      "--------\n",
      "**Series**\n",
      "\n",
      ">>> pd.Series([True, True]).all()\n",
      "True\n",
      ">>> pd.Series([True, False]).all()\n",
      "False\n",
      ">>> pd.Series([], dtype=\"float64\").all()\n",
      "True\n",
      ">>> pd.Series([np.nan]).all()\n",
      "True\n",
      ">>> pd.Series([np.nan]).all(skipna=False)\n",
      "True\n",
      "\n",
      "**DataFrames**\n",
      "\n",
      "Create a dataframe from a dictionary.\n",
      "\n",
      ">>> df = pd.DataFrame({'col1': [True, True], 'col2': [True, False]})\n",
      ">>> df\n",
      "   col1   col2\n",
      "0  True   True\n",
      "1  True  False\n",
      "\n",
      "Default behaviour checks if column-wise values all return True.\n",
      "\n",
      ">>> df.all()\n",
      "col1     True\n",
      "col2    False\n",
      "dtype: bool\n",
      "\n",
      "Specify ``axis='columns'`` to check if row-wise values all return True.\n",
      "\n",
      ">>> df.all(axis='columns')\n",
      "0     True\n",
      "1    False\n",
      "dtype: bool\n",
      "\n",
      "Or ``axis=None`` for whether every value is True.\n",
      "\n",
      ">>> df.all(axis=None)\n",
      "False\n",
      "\n"
     ]
    }
   ],
   "source": [
    "print(c_df.all.__doc__)"
   ],
   "metadata": {
    "collapsed": false
   }
  },
  {
   "cell_type": "code",
   "execution_count": 19,
   "outputs": [],
   "source": [
    "c_df = pd.concat([cats_df, numerics_df],axis=1)"
   ],
   "metadata": {
    "collapsed": false
   }
  },
  {
   "cell_type": "code",
   "execution_count": 20,
   "outputs": [],
   "source": [
    "c_df.to_csv('Data/customer_analysis_data_cleaned_trimmed.csv', index_label=False)"
   ],
   "metadata": {
    "collapsed": false
   }
  }
 ],
 "metadata": {
  "kernelspec": {
   "display_name": "Python 3 (ipykernel)",
   "language": "python",
   "name": "python3"
  },
  "language_info": {
   "codemirror_mode": {
    "name": "ipython",
    "version": 3
   },
   "file_extension": ".py",
   "mimetype": "text/x-python",
   "name": "python",
   "nbconvert_exporter": "python",
   "pygments_lexer": "ipython3",
   "version": "3.9.13"
  }
 },
 "nbformat": 4,
 "nbformat_minor": 5
}
