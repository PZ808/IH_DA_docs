{
 "cells": [
  {
   "cell_type": "markdown",
   "id": "6a8c4346",
   "metadata": {},
   "source": [
    "# Customer Analysis Cleaning \n",
    "\n",
    "\n",
    "\n",
    "<i> You are working as an analyst for an auto insurance company. The company has collected some data about its customers including their demographics, education, employment, policy details, vehicle information on which insurance policy is, and claim amounts. You will help the senior management with some business questions that will help them to better understand their customers, improve their services, and improve profitability. </i>\n",
    "    \n",
    " **Notebook operations summary:**\n",
    " <p> We import three data files in cvs format and clean them. <br>\n",
    "     The cleaning process includes: </p>\n",
    "\n",
    "        - Renaming columns (to ensure consistent concatenation and eliminate column redundancy)\n",
    "        - Replacing null data entries (zeros and nans) by mean values\n",
    "        - Standardizing string entries\n",
    "        - Removing duplicate records\n",
    "\n",
    "        "
   ]
  },
  {
   "cell_type": "code",
   "execution_count": 5,
   "id": "3b7b3551",
   "metadata": {
    "run_control": {
     "marked": true
    }
   },
   "outputs": [],
   "source": [
    "import numpy as np\n",
    "import pandas as pd\n",
    "from skimpy import clean_columns\n",
    "from nltk.metrics import edit_distance\n",
    "pd.options.display.max_rows = 100"
   ]
  },
  {
   "cell_type": "markdown",
   "source": [
    "## Helper functions"
   ],
   "metadata": {
    "collapsed": false
   }
  },
  {
   "cell_type": "code",
   "execution_count": 6,
   "outputs": [],
   "source": [
    "class Cleaner:\n",
    "    def __init__(self, df):\n",
    "\n",
    "        self.cdf = clean_columns(df,case='snake')\n",
    "        self.numerics_df =  self.cdf.select_dtypes(include=[np.number])\n",
    "        self.numeric_cols = self.numerics_df.columns.values\n",
    "        self.cats_df =   self.cdf.select_dtypes(include=object)\n",
    "        self.cat_cols = self.cats_df.columns.values\n",
    "\n",
    "    def drop_dups(self):\n",
    "        df = self.cdf\n",
    "        df_dedupped = df.drop_duplicates()\n",
    "        # there were duplicate rows\n",
    "        print('Dropping {} duplicates'.format(df.shape[0] - df_dedupped.shape[0]))\n",
    "        df = df_dedupped\n",
    "\n",
    "    def drop_select_dups(self, keys):\n",
    "        #df.fillna(-999).groupby(keys)['id'].count().sort_values(ascending=False).head(20)\n",
    "        self.cdf = self.cdf.drop_duplicates(subset=keys)\n",
    "\n",
    "    def show_missing(self):\n",
    "        for col in self.cdf.columns:\n",
    "            pct_missing = np.mean(self.cdf[col].isnull())\n",
    "            print('{} - {}%'.format(col, round(pct_missing*100)))\n",
    "\n",
    "    def drop_missing(self, replace=False):\n",
    "        df = self.cdf\n",
    "        # first create missing indicator for features with missing data\n",
    "        for col in df.columns:\n",
    "            missing = df[col].isnull()\n",
    "            num_missing = np.sum(missing)\n",
    "            if num_missing > 0:\n",
    "                print('created missing indicator for: {}'.format(col))\n",
    "                df['{}_ismissing'.format(col)] = missing\n",
    "\n",
    "            if replace == True:\n",
    "                # categorical\n",
    "                if col in set(self.numeric_cols):\n",
    "                    print('Numerical column '+col+' has missing values.')\n",
    "                    filler = input('Input a filler value (e.g. -999).')\n",
    "                    df[col] = df[col].fillna(filler).astype(int)\n",
    "                else:\n",
    "                    print('Categorical column '+col+' has missing values.')\n",
    "                    filler = input('Input a filler value (e.g. _MISSING_). ')\n",
    "                    df[col] = df[col].fillna(filler)\n",
    "\n",
    "        if replace == False:\n",
    "            from math import ceil\n",
    "            cut_off = ceil(0.50*len(df.columns)) # if a row is missing more than 10% of its entries drop it\n",
    "            ismissing_cols = [col for col in df.columns if 'ismissing' in col]\n",
    "            df['num_missing'] = df[ismissing_cols].sum(axis=1)\n",
    "            # drop rows with a lot of missing values.\n",
    "            ind_missing = df[df['num_missing'] > cut_off].index\n",
    "            df = df.drop(ind_missing, axis=0)\n",
    "\n",
    "    def impute_numerics(self):\n",
    "        df = self.cdf\n",
    "        for col in self.numeric_cols:\n",
    "            missing = df[col].isnull()\n",
    "            num_missing = np.sum(missing)\n",
    "\n",
    "            if num_missing > 0:  # only do the imputation for the columns that have missing values.\n",
    "                print('imputing missing values for: {}'.format(col))\n",
    "                #df['{}_ismissing'.format(col)] = missing\n",
    "                med = df[col].median()\n",
    "                df[col] = df[col].fillna(med)\n",
    "\n",
    "    def impute_cats(self):\n",
    "        df = self.cdf\n",
    "        for col in self.cat_cols:\n",
    "            missing = df[col].isnull()\n",
    "            num_missing = np.sum(missing)\n",
    "\n",
    "            if num_missing > 0:  # only do the imputation for the columns that have missing values.\n",
    "                print('imputing missing values for: {}'.format(col))\n",
    "                #df['{}_ismissing'.format(col)] = missing\n",
    "                top = df[col].describe()['top'] # impute with the most frequent value.\n",
    "                df[col] = df[col].fillna(top)\n",
    "\n",
    "    def redundants(self):\n",
    "        df = self.cdf\n",
    "        num_rows = len(df.index)\n",
    "        low_information_cols = [] #\n",
    "\n",
    "        for col in df.columns:\n",
    "            cnts = df[col].value_counts(dropna=False)\n",
    "            top_pct = (cnts/num_rows).iloc[0]\n",
    "\n",
    "            if top_pct > 0.95:\n",
    "                low_information_cols.append(col)\n",
    "                print('{0}: {1:.5f}%'.format(col, top_pct*100))\n",
    "                print(cnts)\n",
    "                print()\n",
    "\n",
    "\n",
    "    def col_rename(self, dict_rules):\n",
    "        ''' rename columns in data frame using a dictionary of rules  '''\n",
    "        if isinstance(dict_rules,dict):\n",
    "            self.cdf.rename(columns = dict_rules, inplace=True)\n",
    "        else:\n",
    "            raise TypeError\n",
    "\n",
    "    def expand_timestamp(self, time_colname):\n",
    "        df = self.cdf\n",
    "        df['timestamp_dt'] = pd.to_datetime(df[time_colname], format='%Y-%m-%d')\n",
    "        df['year'] = df['timestamp_dt'].dt.year\n",
    "        df['month'] = df['timestamp_dt'].dt.month\n",
    "        df['weekday'] = df['timestamp_dt'].dt.weekday\n",
    "\n",
    "        print(df['year'].value_counts(dropna=False))\n",
    "        print()\n",
    "        print(df['month'].value_counts(dropna=False))\n",
    "\n",
    "    def get_typos(self,colname, word):\n",
    "        tmp = pd.DataFrame([])\n",
    "        tmp[colname] = self.cdf[colname]\n",
    "        cn = 'distance_'+word\n",
    "        tmp[cn] = self.cdf[colname].map(lambda x: edit_distance(x, word))\n",
    "        return tmp.value_counts()\n",
    "\n",
    "    def fix_typos(self,colname, word, dist=2):\n",
    "        tmp = self.cdf.copy()\n",
    "        tmp[colname] = self.cdf[colname]\n",
    "        cn = 'distance_'+word\n",
    "        tmp[cn] = self.cdf[colname].map(lambda x: edit_distance(x, word))\n",
    "        msk = tmp[cn] <= dist\n",
    "        self.cdf.loc[msk, colname] = word\n",
    "\n",
    "    def row_string_replace(self, colname, replacement_dict):\n",
    "        self.cdf[colname] = self.cdf[colname].replace(replacement_dict)\n",
    "\n"
   ],
   "metadata": {
    "collapsed": false
   }
  },
  {
   "cell_type": "code",
   "execution_count": 7,
   "id": "e7af266d",
   "metadata": {},
   "outputs": [],
   "source": [
    "def print_unique(df,col):\n",
    "    ''' gives a list of unique values in a field '''\n",
    "    return df[col].unique()\n",
    "\n",
    "def col_rename(df, dict_rules, ip=True):\n",
    "    ''' rename columns in data frame using a dictionary of rules  '''\n",
    "    if isinstance(df,pd.core.frame.DataFrame) and isinstance(dict_rules,dict):\n",
    "        z = df.rename(columns = dict_rules, inplace=ip)\n",
    "    else:\n",
    "        raise TypeError\n",
    "    return z\n",
    "\n",
    "def fill_nans_with_means(df,col):\n",
    "    ''' fills nans in column with median '''\n",
    "    return df[col].fillna(c_df.income.mean()).round()\n",
    "\n",
    "def make_lower(df, col):\n",
    "    '''lower the case of record in a field '''\n",
    "    return df[col].str.lower()\n",
    "\n",
    "def lower_case_column_names(df):\n",
    "    ''' make columns lower case '''\n",
    "    if isinstance(df,pd.core.frame.DataFrame):\n",
    "        df.columns=[i.lower() for i in df.columns]\n",
    "    else:\n",
    "        raise TypeError\n",
    "    return df\n",
    "\n",
    "def strip_char(df,col,char):\n",
    "    ''' strips a char and rounds '''\n",
    "    return list(map(lambda x: round(float(x.strip(char))/100,0)\\\n",
    "                                          if type(x)==str else round(x,0),df[col]))\n",
    "\n",
    "def record_str_replace(df, col, dict_rules):\n",
    "    return df[col].replace(dict_rules) # additional replacement\n",
    "\n",
    "def get_between_slash_and_join(df,col):\n",
    "    ''' returns middle entry in a string formatted by \"a/b/cc\" and avoids nans.\n",
    "        (Tailored to the vehicles data set)  '''\n",
    "    res  = list(map(lambda x : int(x[2]) if type(x)==str else x, df[col]))\n",
    "    return res\n",
    "\n",
    "def state(old_names, new_names):\n",
    "    ''' renames states '''\n",
    "    return c_df['st'].replace(old_names, new_names)"
   ]
  },
  {
   "cell_type": "markdown",
   "id": "40ebdc94",
   "metadata": {},
   "source": [
    "## Data cleaning"
   ]
  },
  {
   "cell_type": "code",
   "execution_count": 8,
   "id": "7acca452",
   "metadata": {},
   "outputs": [],
   "source": [
    "file1 = pd.read_csv('Data/file1.csv')\n",
    "file2 = pd.read_csv('Data/file2.csv')\n",
    "file3 = pd.read_csv('Data/file3.csv')"
   ]
  },
  {
   "cell_type": "code",
   "execution_count": 9,
   "id": "cf85a335",
   "metadata": {},
   "outputs": [
    {
     "data": {
      "text/plain": "{'Customer',\n 'Customer Lifetime Value',\n 'Education',\n 'GENDER',\n 'Gender',\n 'Income',\n 'Monthly Premium Auto',\n 'Number of Open Complaints',\n 'Policy Type',\n 'ST',\n 'State',\n 'Total Claim Amount',\n 'Vehicle Class'}"
     },
     "execution_count": 9,
     "metadata": {},
     "output_type": "execute_result"
    }
   ],
   "source": [
    "a_ll_columns = set(list(file1.columns) + list(file2.columns) + list(file3.columns))\n",
    "a_ll_columns"
   ]
  },
  {
   "cell_type": "code",
   "execution_count": 10,
   "id": "0b4f702f",
   "metadata": {},
   "outputs": [],
   "source": [
    "# rename State to ST before concat to avoid redundant columns\n",
    "col_rename(file3, {'State': 'ST'}) "
   ]
  },
  {
   "cell_type": "code",
   "execution_count": 11,
   "id": "b1935f62",
   "metadata": {},
   "outputs": [
    {
     "name": "stdout",
     "output_type": "stream",
     "text": [
      "<class 'pandas.core.frame.DataFrame'>\n",
      "Int64Index: 12074 entries, 0 to 7069\n",
      "Data columns (total 10 columns):\n",
      " #   Column                     Non-Null Count  Dtype  \n",
      "---  ------                     --------------  -----  \n",
      " 0   st                         9137 non-null   object \n",
      " 1   gender                     9015 non-null   object \n",
      " 2   education                  9137 non-null   object \n",
      " 3   customer lifetime value    9130 non-null   object \n",
      " 4   income                     9137 non-null   float64\n",
      " 5   monthly premium auto       9137 non-null   float64\n",
      " 6   number of open complaints  9137 non-null   object \n",
      " 7   policy type                9137 non-null   object \n",
      " 8   vehicle class              9137 non-null   object \n",
      " 9   total claim amount         9137 non-null   float64\n",
      "dtypes: float64(3), object(7)\n",
      "memory usage: 1.0+ MB\n"
     ]
    }
   ],
   "source": [
    "files = [file1,file2,file3] # aggregate files\n",
    "files = list(map(lower_case_column_names,files)) # make the headers lowercase\n",
    "c_df  = pd.concat(files) # concat the data into a pandas frame\n",
    "c_df  = c_df.drop(labels=['customer'], axis=1) # drop customer label\n",
    "c_df.info()"
   ]
  },
  {
   "cell_type": "code",
   "execution_count": 12,
   "outputs": [],
   "source": [
    "c_df['customer lifetime value'] = strip_char(c_df,'customer lifetime value','%')"
   ],
   "metadata": {
    "collapsed": false
   }
  },
  {
   "cell_type": "code",
   "execution_count": 13,
   "outputs": [
    {
     "data": {
      "text/plain": "\u001B[1;36m6\u001B[0m column names have been cleaned\n",
      "text/html": "<pre style=\"white-space:pre;overflow-x:auto;line-height:normal;font-family:Menlo,'DejaVu Sans Mono',consolas,'Courier New',monospace\"><span style=\"color: #008080; text-decoration-color: #008080; font-weight: bold\">6</span> column names have been cleaned\n</pre>\n"
     },
     "metadata": {},
     "output_type": "display_data"
    }
   ],
   "source": [
    "clnr = Cleaner(c_df)\n"
   ],
   "metadata": {
    "collapsed": false
   }
  },
  {
   "cell_type": "code",
   "execution_count": 14,
   "outputs": [
    {
     "data": {
      "text/plain": "0.0        2294\n95697.0      13\n26876.0       8\n61108.0       8\n10621.0       8\n           ... \n26599.0       1\n75774.0       1\n85412.0       1\n42968.0       1\n21941.0       1\nName: income, Length: 5655, dtype: int64"
     },
     "execution_count": 14,
     "metadata": {},
     "output_type": "execute_result"
    }
   ],
   "source": [
    "clnr.cdf.income.value_counts()"
   ],
   "metadata": {
    "collapsed": false
   }
  },
  {
   "cell_type": "code",
   "execution_count": 52,
   "outputs": [
    {
     "name": "stdout",
     "output_type": "stream",
     "text": [
      "Dropping 3192 duplicates\n"
     ]
    }
   ],
   "source": [
    "clnr.drop_dups() # drop duplicates"
   ],
   "metadata": {
    "collapsed": false
   }
  },
  {
   "cell_type": "code",
   "execution_count": 53,
   "outputs": [],
   "source": [
    "#clnr.drop_missing()  #"
   ],
   "metadata": {
    "collapsed": false
   }
  },
  {
   "cell_type": "code",
   "execution_count": 53,
   "outputs": [],
   "source": [],
   "metadata": {
    "collapsed": false
   }
  },
  {
   "cell_type": "code",
   "execution_count": 54,
   "outputs": [
    {
     "name": "stdout",
     "output_type": "stream",
     "text": [
      "imputing missing values for: customer_lifetime_value\n",
      "imputing missing values for: income\n",
      "imputing missing values for: monthly_premium_auto\n",
      "imputing missing values for: total_claim_amount\n",
      "imputing missing values for: st\n",
      "imputing missing values for: gender\n",
      "imputing missing values for: education\n",
      "imputing missing values for: number_of_open_complaints\n",
      "imputing missing values for: policy_type\n",
      "imputing missing values for: vehicle_class\n"
     ]
    }
   ],
   "source": [
    "clnr.impute_numerics() # replace nans by median\n",
    "clnr.impute_cats() # replace nans by mode\n"
   ],
   "metadata": {
    "collapsed": false
   }
  },
  {
   "cell_type": "code",
   "execution_count": 55,
   "outputs": [
    {
     "data": {
      "text/plain": "gender  distance_female\nF       6                  7619\nM       6                  4368\nMale    3                    40\nfemale  0                    30\nFemal   2                    17\ndtype: int64"
     },
     "execution_count": 55,
     "metadata": {},
     "output_type": "execute_result"
    }
   ],
   "source": [
    "clnr.get_typos('gender', 'female')"
   ],
   "metadata": {
    "collapsed": false
   }
  },
  {
   "cell_type": "code",
   "execution_count": 56,
   "outputs": [],
   "source": [
    "clnr.fix_typos('gender','male')\n",
    "clnr.fix_typos('gender','female')"
   ],
   "metadata": {
    "collapsed": false
   }
  },
  {
   "cell_type": "code",
   "execution_count": 57,
   "outputs": [
    {
     "data": {
      "text/plain": "F         7619\nM         4368\nfemale      87\nName: gender, dtype: int64"
     },
     "execution_count": 57,
     "metadata": {},
     "output_type": "execute_result"
    }
   ],
   "source": [
    "clnr.cdf.gender.value_counts()"
   ],
   "metadata": {
    "collapsed": false
   }
  },
  {
   "cell_type": "code",
   "execution_count": 58,
   "outputs": [
    {
     "data": {
      "text/plain": "              st gender             education  customer_lifetime_value  \\\n0     Washington      F                Master                    77.15   \n1        Arizona      F              Bachelor                  6979.54   \n2         Nevada      F              Bachelor                 12887.43   \n3     California      M              Bachelor                  7645.86   \n4     Washington      M  High School or Below                  5363.08   \n...          ...    ...                   ...                      ...   \n7065  California      M              Bachelor                   234.06   \n7066  California      F               College                    30.97   \n7067  California      M              Bachelor                    81.64   \n7068  California      M               College                    75.24   \n7069  California      M               College                    26.12   \n\n       income  monthly_premium_auto number_of_open_complaints     policy_type  \\\n0         0.0                1000.0                    1/0/00   Personal Auto   \n1         0.0                  94.0                    1/0/00   Personal Auto   \n2     48767.0                 108.0                    1/0/00   Personal Auto   \n3         0.0                 106.0                    1/0/00  Corporate Auto   \n4     36357.0                  68.0                    1/0/00   Personal Auto   \n...       ...                   ...                       ...             ...   \n7065  71941.0                  73.0                         0   Personal Auto   \n7066  21604.0                  79.0                         0  Corporate Auto   \n7067      0.0                  85.0                         3  Corporate Auto   \n7068  21941.0                  96.0                         0   Personal Auto   \n7069      0.0                  77.0                         0  Corporate Auto   \n\n      vehicle_class  total_claim_amount  \n0     Four-Door Car            2.704934  \n1     Four-Door Car         1131.464935  \n2      Two-Door Car          566.472247  \n3               SUV          529.881344  \n4     Four-Door Car           17.269323  \n...             ...                 ...  \n7065  Four-Door Car          198.234764  \n7066  Four-Door Car          379.200000  \n7067  Four-Door Car          790.784983  \n7068  Four-Door Car          691.200000  \n7069   Two-Door Car          369.600000  \n\n[12074 rows x 10 columns]",
      "text/html": "<div>\n<style scoped>\n    .dataframe tbody tr th:only-of-type {\n        vertical-align: middle;\n    }\n\n    .dataframe tbody tr th {\n        vertical-align: top;\n    }\n\n    .dataframe thead th {\n        text-align: right;\n    }\n</style>\n<table border=\"1\" class=\"dataframe\">\n  <thead>\n    <tr style=\"text-align: right;\">\n      <th></th>\n      <th>st</th>\n      <th>gender</th>\n      <th>education</th>\n      <th>customer_lifetime_value</th>\n      <th>income</th>\n      <th>monthly_premium_auto</th>\n      <th>number_of_open_complaints</th>\n      <th>policy_type</th>\n      <th>vehicle_class</th>\n      <th>total_claim_amount</th>\n    </tr>\n  </thead>\n  <tbody>\n    <tr>\n      <th>0</th>\n      <td>Washington</td>\n      <td>F</td>\n      <td>Master</td>\n      <td>77.15</td>\n      <td>0.0</td>\n      <td>1000.0</td>\n      <td>1/0/00</td>\n      <td>Personal Auto</td>\n      <td>Four-Door Car</td>\n      <td>2.704934</td>\n    </tr>\n    <tr>\n      <th>1</th>\n      <td>Arizona</td>\n      <td>F</td>\n      <td>Bachelor</td>\n      <td>6979.54</td>\n      <td>0.0</td>\n      <td>94.0</td>\n      <td>1/0/00</td>\n      <td>Personal Auto</td>\n      <td>Four-Door Car</td>\n      <td>1131.464935</td>\n    </tr>\n    <tr>\n      <th>2</th>\n      <td>Nevada</td>\n      <td>F</td>\n      <td>Bachelor</td>\n      <td>12887.43</td>\n      <td>48767.0</td>\n      <td>108.0</td>\n      <td>1/0/00</td>\n      <td>Personal Auto</td>\n      <td>Two-Door Car</td>\n      <td>566.472247</td>\n    </tr>\n    <tr>\n      <th>3</th>\n      <td>California</td>\n      <td>M</td>\n      <td>Bachelor</td>\n      <td>7645.86</td>\n      <td>0.0</td>\n      <td>106.0</td>\n      <td>1/0/00</td>\n      <td>Corporate Auto</td>\n      <td>SUV</td>\n      <td>529.881344</td>\n    </tr>\n    <tr>\n      <th>4</th>\n      <td>Washington</td>\n      <td>M</td>\n      <td>High School or Below</td>\n      <td>5363.08</td>\n      <td>36357.0</td>\n      <td>68.0</td>\n      <td>1/0/00</td>\n      <td>Personal Auto</td>\n      <td>Four-Door Car</td>\n      <td>17.269323</td>\n    </tr>\n    <tr>\n      <th>...</th>\n      <td>...</td>\n      <td>...</td>\n      <td>...</td>\n      <td>...</td>\n      <td>...</td>\n      <td>...</td>\n      <td>...</td>\n      <td>...</td>\n      <td>...</td>\n      <td>...</td>\n    </tr>\n    <tr>\n      <th>7065</th>\n      <td>California</td>\n      <td>M</td>\n      <td>Bachelor</td>\n      <td>234.06</td>\n      <td>71941.0</td>\n      <td>73.0</td>\n      <td>0</td>\n      <td>Personal Auto</td>\n      <td>Four-Door Car</td>\n      <td>198.234764</td>\n    </tr>\n    <tr>\n      <th>7066</th>\n      <td>California</td>\n      <td>F</td>\n      <td>College</td>\n      <td>30.97</td>\n      <td>21604.0</td>\n      <td>79.0</td>\n      <td>0</td>\n      <td>Corporate Auto</td>\n      <td>Four-Door Car</td>\n      <td>379.200000</td>\n    </tr>\n    <tr>\n      <th>7067</th>\n      <td>California</td>\n      <td>M</td>\n      <td>Bachelor</td>\n      <td>81.64</td>\n      <td>0.0</td>\n      <td>85.0</td>\n      <td>3</td>\n      <td>Corporate Auto</td>\n      <td>Four-Door Car</td>\n      <td>790.784983</td>\n    </tr>\n    <tr>\n      <th>7068</th>\n      <td>California</td>\n      <td>M</td>\n      <td>College</td>\n      <td>75.24</td>\n      <td>21941.0</td>\n      <td>96.0</td>\n      <td>0</td>\n      <td>Personal Auto</td>\n      <td>Four-Door Car</td>\n      <td>691.200000</td>\n    </tr>\n    <tr>\n      <th>7069</th>\n      <td>California</td>\n      <td>M</td>\n      <td>College</td>\n      <td>26.12</td>\n      <td>0.0</td>\n      <td>77.0</td>\n      <td>0</td>\n      <td>Corporate Auto</td>\n      <td>Two-Door Car</td>\n      <td>369.600000</td>\n    </tr>\n  </tbody>\n</table>\n<p>12074 rows × 10 columns</p>\n</div>"
     },
     "execution_count": 58,
     "metadata": {},
     "output_type": "execute_result"
    }
   ],
   "source": [
    "clnr.cdf"
   ],
   "metadata": {
    "collapsed": false
   }
  },
  {
   "cell_type": "code",
   "execution_count": 59,
   "outputs": [],
   "source": [
    "#cc_df.col_rename({'st':'state'})"
   ],
   "metadata": {
    "collapsed": false
   }
  },
  {
   "cell_type": "code",
   "execution_count": 60,
   "outputs": [],
   "source": [
    "clnr.redundants() # print features have overwhelmingly the same values"
   ],
   "metadata": {
    "collapsed": false
   }
  },
  {
   "cell_type": "code",
   "execution_count": 61,
   "outputs": [
    {
     "data": {
      "text/plain": "F         7619\nM         4368\nfemale      87\nName: gender, dtype: int64"
     },
     "execution_count": 61,
     "metadata": {},
     "output_type": "execute_result"
    }
   ],
   "source": [
    "clnr.cdf.gender.value_counts()\n"
   ],
   "metadata": {
    "collapsed": false
   }
  },
  {
   "cell_type": "code",
   "execution_count": 68,
   "outputs": [],
   "source": [
    "clnr.row_string_replace('gender', {'female':'F'})"
   ],
   "metadata": {
    "collapsed": false
   }
  },
  {
   "cell_type": "code",
   "execution_count": 69,
   "id": "da4c1156",
   "metadata": {},
   "outputs": [
    {
     "data": {
      "text/plain": "['East Region', 'Central', 'West Region', 'Northeast Region']"
     },
     "execution_count": 69,
     "metadata": {},
     "output_type": "execute_result"
    }
   ],
   "source": [
    "state_old = print_unique(clnr.cdf,'st')\n",
    "state_old = list(state_old)\n",
    "state_old"
   ]
  },
  {
   "cell_type": "code",
   "execution_count": 70,
   "id": "c9556a6a",
   "metadata": {},
   "outputs": [
    {
     "data": {
      "text/plain": "array(['Washington', 'Arizona', 'Nevada', 'California'], dtype=object)"
     },
     "execution_count": 70,
     "metadata": {},
     "output_type": "execute_result"
    }
   ],
   "source": [
    "state_new = ['Washington',\n",
    " 'Arizona',\n",
    " 'Nevada',\n",
    " 'California',\n",
    " 'Oregon',\n",
    " 'California',\n",
    " 'Arizona',\n",
    " 'Washington', 'Unknown']\n",
    "state_replace_rules = dict(zip(state_old,state_new))\n",
    "clnr.row_string_replace('st',state_replace_rules)\n",
    "print_unique(clnr.cdf,'st')"
   ]
  },
  {
   "cell_type": "code",
   "execution_count": 73,
   "id": "198f2488",
   "metadata": {},
   "outputs": [],
   "source": [
    "clnr.cdf['number of open complaints'] = get_between_slash_and_join(clnr.cdf,'number of open complaints')"
   ]
  },
  {
   "cell_type": "code",
   "execution_count": 74,
   "outputs": [
    {
     "data": {
      "text/plain": "              st gender             education  customer_lifetime_value  \\\n0     Washington      F                Master                    77.15   \n1        Arizona      F              Bachelor                  6979.54   \n2        Arizona      F              Bachelor                 12887.43   \n3         Nevada      M              Bachelor                  7645.86   \n4     Washington      M  High School or Below                  5363.08   \n...          ...    ...                   ...                      ...   \n7065      Nevada      M              Bachelor                   234.06   \n7066      Nevada      F               College                    30.97   \n7067      Nevada      M              Bachelor                    81.64   \n7068      Nevada      M               College                    75.24   \n7069      Nevada      M               College                    26.12   \n\n       income  monthly_premium_auto number_of_open_complaints     policy_type  \\\n0         0.0                1000.0                    1/0/00   Personal Auto   \n1         0.0                  94.0                    1/0/00   Personal Auto   \n2     48767.0                 108.0                    1/0/00   Personal Auto   \n3         0.0                 106.0                    1/0/00  Corporate Auto   \n4     36357.0                  68.0                    1/0/00   Personal Auto   \n...       ...                   ...                       ...             ...   \n7065  71941.0                  73.0                         0   Personal Auto   \n7066  21604.0                  79.0                         0  Corporate Auto   \n7067      0.0                  85.0                         3  Corporate Auto   \n7068  21941.0                  96.0                         0   Personal Auto   \n7069      0.0                  77.0                         0  Corporate Auto   \n\n      vehicle_class  total_claim_amount  number of open complaints  \n0     Four-Door Car            2.704934                        0.0  \n1     Four-Door Car         1131.464935                        0.0  \n2      Two-Door Car          566.472247                        0.0  \n3               SUV          529.881344                        0.0  \n4     Four-Door Car           17.269323                        0.0  \n...             ...                 ...                        ...  \n7065  Four-Door Car          198.234764                        0.0  \n7066  Four-Door Car          379.200000                        0.0  \n7067  Four-Door Car          790.784983                        3.0  \n7068  Four-Door Car          691.200000                        0.0  \n7069   Two-Door Car          369.600000                        0.0  \n\n[12074 rows x 11 columns]",
      "text/html": "<div>\n<style scoped>\n    .dataframe tbody tr th:only-of-type {\n        vertical-align: middle;\n    }\n\n    .dataframe tbody tr th {\n        vertical-align: top;\n    }\n\n    .dataframe thead th {\n        text-align: right;\n    }\n</style>\n<table border=\"1\" class=\"dataframe\">\n  <thead>\n    <tr style=\"text-align: right;\">\n      <th></th>\n      <th>st</th>\n      <th>gender</th>\n      <th>education</th>\n      <th>customer_lifetime_value</th>\n      <th>income</th>\n      <th>monthly_premium_auto</th>\n      <th>number_of_open_complaints</th>\n      <th>policy_type</th>\n      <th>vehicle_class</th>\n      <th>total_claim_amount</th>\n      <th>number of open complaints</th>\n    </tr>\n  </thead>\n  <tbody>\n    <tr>\n      <th>0</th>\n      <td>Washington</td>\n      <td>F</td>\n      <td>Master</td>\n      <td>77.15</td>\n      <td>0.0</td>\n      <td>1000.0</td>\n      <td>1/0/00</td>\n      <td>Personal Auto</td>\n      <td>Four-Door Car</td>\n      <td>2.704934</td>\n      <td>0.0</td>\n    </tr>\n    <tr>\n      <th>1</th>\n      <td>Arizona</td>\n      <td>F</td>\n      <td>Bachelor</td>\n      <td>6979.54</td>\n      <td>0.0</td>\n      <td>94.0</td>\n      <td>1/0/00</td>\n      <td>Personal Auto</td>\n      <td>Four-Door Car</td>\n      <td>1131.464935</td>\n      <td>0.0</td>\n    </tr>\n    <tr>\n      <th>2</th>\n      <td>Arizona</td>\n      <td>F</td>\n      <td>Bachelor</td>\n      <td>12887.43</td>\n      <td>48767.0</td>\n      <td>108.0</td>\n      <td>1/0/00</td>\n      <td>Personal Auto</td>\n      <td>Two-Door Car</td>\n      <td>566.472247</td>\n      <td>0.0</td>\n    </tr>\n    <tr>\n      <th>3</th>\n      <td>Nevada</td>\n      <td>M</td>\n      <td>Bachelor</td>\n      <td>7645.86</td>\n      <td>0.0</td>\n      <td>106.0</td>\n      <td>1/0/00</td>\n      <td>Corporate Auto</td>\n      <td>SUV</td>\n      <td>529.881344</td>\n      <td>0.0</td>\n    </tr>\n    <tr>\n      <th>4</th>\n      <td>Washington</td>\n      <td>M</td>\n      <td>High School or Below</td>\n      <td>5363.08</td>\n      <td>36357.0</td>\n      <td>68.0</td>\n      <td>1/0/00</td>\n      <td>Personal Auto</td>\n      <td>Four-Door Car</td>\n      <td>17.269323</td>\n      <td>0.0</td>\n    </tr>\n    <tr>\n      <th>...</th>\n      <td>...</td>\n      <td>...</td>\n      <td>...</td>\n      <td>...</td>\n      <td>...</td>\n      <td>...</td>\n      <td>...</td>\n      <td>...</td>\n      <td>...</td>\n      <td>...</td>\n      <td>...</td>\n    </tr>\n    <tr>\n      <th>7065</th>\n      <td>Nevada</td>\n      <td>M</td>\n      <td>Bachelor</td>\n      <td>234.06</td>\n      <td>71941.0</td>\n      <td>73.0</td>\n      <td>0</td>\n      <td>Personal Auto</td>\n      <td>Four-Door Car</td>\n      <td>198.234764</td>\n      <td>0.0</td>\n    </tr>\n    <tr>\n      <th>7066</th>\n      <td>Nevada</td>\n      <td>F</td>\n      <td>College</td>\n      <td>30.97</td>\n      <td>21604.0</td>\n      <td>79.0</td>\n      <td>0</td>\n      <td>Corporate Auto</td>\n      <td>Four-Door Car</td>\n      <td>379.200000</td>\n      <td>0.0</td>\n    </tr>\n    <tr>\n      <th>7067</th>\n      <td>Nevada</td>\n      <td>M</td>\n      <td>Bachelor</td>\n      <td>81.64</td>\n      <td>0.0</td>\n      <td>85.0</td>\n      <td>3</td>\n      <td>Corporate Auto</td>\n      <td>Four-Door Car</td>\n      <td>790.784983</td>\n      <td>3.0</td>\n    </tr>\n    <tr>\n      <th>7068</th>\n      <td>Nevada</td>\n      <td>M</td>\n      <td>College</td>\n      <td>75.24</td>\n      <td>21941.0</td>\n      <td>96.0</td>\n      <td>0</td>\n      <td>Personal Auto</td>\n      <td>Four-Door Car</td>\n      <td>691.200000</td>\n      <td>0.0</td>\n    </tr>\n    <tr>\n      <th>7069</th>\n      <td>Nevada</td>\n      <td>M</td>\n      <td>College</td>\n      <td>26.12</td>\n      <td>0.0</td>\n      <td>77.0</td>\n      <td>0</td>\n      <td>Corporate Auto</td>\n      <td>Two-Door Car</td>\n      <td>369.600000</td>\n      <td>0.0</td>\n    </tr>\n  </tbody>\n</table>\n<p>12074 rows × 11 columns</p>\n</div>"
     },
     "execution_count": 74,
     "metadata": {},
     "output_type": "execute_result"
    }
   ],
   "source": [
    "clnr.cdf"
   ],
   "metadata": {
    "collapsed": false
   }
  },
  {
   "cell_type": "code",
   "execution_count": 75,
   "outputs": [
    {
     "data": {
      "text/plain": "               st gender             education  customer lifetime value  \\\n0     East Region    NaN                Master                      NaN   \n1         Central      F              Bachelor                  6979.54   \n2         Central      F              Bachelor                 12887.43   \n3     West Region      M              Bachelor                  7645.86   \n4     East Region      M  High School or Below                  5363.08   \n...           ...    ...                   ...                      ...   \n7065  West Region      M              Bachelor                   234.06   \n7066  West Region      F               College                    30.97   \n7067  West Region      M              Bachelor                    81.64   \n7068  West Region      M               College                    75.24   \n7069  West Region      M               College                    26.12   \n\n       income  monthly premium auto  number of open complaints  \\\n0         0.0                1000.0                        0.0   \n1         0.0                  94.0                        0.0   \n2     48767.0                 108.0                        0.0   \n3         0.0                 106.0                        0.0   \n4     36357.0                  68.0                        0.0   \n...       ...                   ...                        ...   \n7065  71941.0                  73.0                        0.0   \n7066  21604.0                  79.0                        0.0   \n7067      0.0                  85.0                        3.0   \n7068  21941.0                  96.0                        0.0   \n7069      0.0                  77.0                        0.0   \n\n         policy type  vehicle class  total claim amount  \n0      Personal Auto  Four-Door Car            2.704934  \n1      Personal Auto  Four-Door Car         1131.464935  \n2      Personal Auto   Two-Door Car          566.472247  \n3     Corporate Auto            SUV          529.881344  \n4      Personal Auto  Four-Door Car           17.269323  \n...              ...            ...                 ...  \n7065   Personal Auto  Four-Door Car          198.234764  \n7066  Corporate Auto  Four-Door Car          379.200000  \n7067  Corporate Auto  Four-Door Car          790.784983  \n7068   Personal Auto  Four-Door Car          691.200000  \n7069  Corporate Auto   Two-Door Car          369.600000  \n\n[12074 rows x 10 columns]",
      "text/html": "<div>\n<style scoped>\n    .dataframe tbody tr th:only-of-type {\n        vertical-align: middle;\n    }\n\n    .dataframe tbody tr th {\n        vertical-align: top;\n    }\n\n    .dataframe thead th {\n        text-align: right;\n    }\n</style>\n<table border=\"1\" class=\"dataframe\">\n  <thead>\n    <tr style=\"text-align: right;\">\n      <th></th>\n      <th>st</th>\n      <th>gender</th>\n      <th>education</th>\n      <th>customer lifetime value</th>\n      <th>income</th>\n      <th>monthly premium auto</th>\n      <th>number of open complaints</th>\n      <th>policy type</th>\n      <th>vehicle class</th>\n      <th>total claim amount</th>\n    </tr>\n  </thead>\n  <tbody>\n    <tr>\n      <th>0</th>\n      <td>East Region</td>\n      <td>NaN</td>\n      <td>Master</td>\n      <td>NaN</td>\n      <td>0.0</td>\n      <td>1000.0</td>\n      <td>0.0</td>\n      <td>Personal Auto</td>\n      <td>Four-Door Car</td>\n      <td>2.704934</td>\n    </tr>\n    <tr>\n      <th>1</th>\n      <td>Central</td>\n      <td>F</td>\n      <td>Bachelor</td>\n      <td>6979.54</td>\n      <td>0.0</td>\n      <td>94.0</td>\n      <td>0.0</td>\n      <td>Personal Auto</td>\n      <td>Four-Door Car</td>\n      <td>1131.464935</td>\n    </tr>\n    <tr>\n      <th>2</th>\n      <td>Central</td>\n      <td>F</td>\n      <td>Bachelor</td>\n      <td>12887.43</td>\n      <td>48767.0</td>\n      <td>108.0</td>\n      <td>0.0</td>\n      <td>Personal Auto</td>\n      <td>Two-Door Car</td>\n      <td>566.472247</td>\n    </tr>\n    <tr>\n      <th>3</th>\n      <td>West Region</td>\n      <td>M</td>\n      <td>Bachelor</td>\n      <td>7645.86</td>\n      <td>0.0</td>\n      <td>106.0</td>\n      <td>0.0</td>\n      <td>Corporate Auto</td>\n      <td>SUV</td>\n      <td>529.881344</td>\n    </tr>\n    <tr>\n      <th>4</th>\n      <td>East Region</td>\n      <td>M</td>\n      <td>High School or Below</td>\n      <td>5363.08</td>\n      <td>36357.0</td>\n      <td>68.0</td>\n      <td>0.0</td>\n      <td>Personal Auto</td>\n      <td>Four-Door Car</td>\n      <td>17.269323</td>\n    </tr>\n    <tr>\n      <th>...</th>\n      <td>...</td>\n      <td>...</td>\n      <td>...</td>\n      <td>...</td>\n      <td>...</td>\n      <td>...</td>\n      <td>...</td>\n      <td>...</td>\n      <td>...</td>\n      <td>...</td>\n    </tr>\n    <tr>\n      <th>7065</th>\n      <td>West Region</td>\n      <td>M</td>\n      <td>Bachelor</td>\n      <td>234.06</td>\n      <td>71941.0</td>\n      <td>73.0</td>\n      <td>0.0</td>\n      <td>Personal Auto</td>\n      <td>Four-Door Car</td>\n      <td>198.234764</td>\n    </tr>\n    <tr>\n      <th>7066</th>\n      <td>West Region</td>\n      <td>F</td>\n      <td>College</td>\n      <td>30.97</td>\n      <td>21604.0</td>\n      <td>79.0</td>\n      <td>0.0</td>\n      <td>Corporate Auto</td>\n      <td>Four-Door Car</td>\n      <td>379.200000</td>\n    </tr>\n    <tr>\n      <th>7067</th>\n      <td>West Region</td>\n      <td>M</td>\n      <td>Bachelor</td>\n      <td>81.64</td>\n      <td>0.0</td>\n      <td>85.0</td>\n      <td>3.0</td>\n      <td>Corporate Auto</td>\n      <td>Four-Door Car</td>\n      <td>790.784983</td>\n    </tr>\n    <tr>\n      <th>7068</th>\n      <td>West Region</td>\n      <td>M</td>\n      <td>College</td>\n      <td>75.24</td>\n      <td>21941.0</td>\n      <td>96.0</td>\n      <td>0.0</td>\n      <td>Personal Auto</td>\n      <td>Four-Door Car</td>\n      <td>691.200000</td>\n    </tr>\n    <tr>\n      <th>7069</th>\n      <td>West Region</td>\n      <td>M</td>\n      <td>College</td>\n      <td>26.12</td>\n      <td>0.0</td>\n      <td>77.0</td>\n      <td>0.0</td>\n      <td>Corporate Auto</td>\n      <td>Two-Door Car</td>\n      <td>369.600000</td>\n    </tr>\n  </tbody>\n</table>\n<p>12074 rows × 10 columns</p>\n</div>"
     },
     "execution_count": 75,
     "metadata": {},
     "output_type": "execute_result"
    }
   ],
   "source": [
    "c_df['number of open complaints'] = get_between_slash_and_join(c_df,'number of open complaints')\n",
    "c_df"
   ],
   "metadata": {
    "collapsed": false
   }
  },
  {
   "cell_type": "code",
   "execution_count": null,
   "outputs": [],
   "source": [],
   "metadata": {
    "collapsed": false
   }
  }
 ],
 "metadata": {
  "kernelspec": {
   "display_name": "Python 3 (ipykernel)",
   "language": "python",
   "name": "python3"
  },
  "language_info": {
   "codemirror_mode": {
    "name": "ipython",
    "version": 3
   },
   "file_extension": ".py",
   "mimetype": "text/x-python",
   "name": "python",
   "nbconvert_exporter": "python",
   "pygments_lexer": "ipython3",
   "version": "3.9.0"
  },
  "toc": {
   "base_numbering": 1,
   "nav_menu": {},
   "number_sections": true,
   "sideBar": true,
   "skip_h1_title": false,
   "title_cell": "Table of Contents",
   "title_sidebar": "Contents",
   "toc_cell": false,
   "toc_position": {},
   "toc_section_display": true,
   "toc_window_display": false
  },
  "varInspector": {
   "cols": {
    "lenName": 16,
    "lenType": 16,
    "lenVar": 40
   },
   "kernels_config": {
    "python": {
     "delete_cmd_postfix": "",
     "delete_cmd_prefix": "del ",
     "library": "var_list.py",
     "varRefreshCmd": "print(var_dic_list())"
    },
    "r": {
     "delete_cmd_postfix": ") ",
     "delete_cmd_prefix": "rm(",
     "library": "var_list.r",
     "varRefreshCmd": "cat(var_dic_list()) "
    }
   },
   "types_to_exclude": [
    "module",
    "function",
    "builtin_function_or_method",
    "instance",
    "_Feature"
   ],
   "window_display": false
  }
 },
 "nbformat": 4,
 "nbformat_minor": 5
}
